{
 "cells": [
  {
   "cell_type": "markdown",
   "metadata": {
    "colab_type": "text",
    "id": "-Ab-X-IrCyl0"
   },
   "source": [
    "# DonorsChoose"
   ]
  },
  {
   "cell_type": "markdown",
   "metadata": {
    "colab_type": "text",
    "id": "etNpzy7rCyl2"
   },
   "source": [
    "<p>\n",
    "DonorsChoose.org receives hundreds of thousands of project proposals each year for classroom projects in need of funding. Right now, a large number of volunteers is needed to manually screen each submission before it's approved to be posted on the DonorsChoose.org website.\n",
    "</p>\n",
    "<p>\n",
    "    Next year, DonorsChoose.org expects to receive close to 500,000 project proposals. As a result, there are three main problems they need to solve:\n",
    "<ul>\n",
    "<li>\n",
    "    How to scale current manual processes and resources to screen 500,000 projects so that they can be posted as quickly and as efficiently as possible</li>\n",
    "    <li>How to increase the consistency of project vetting across different volunteers to improve the experience for teachers</li>\n",
    "    <li>How to focus volunteer time on the applications that need the most assistance</li>\n",
    "    </ul>\n",
    "</p>    \n",
    "<p>\n",
    "The goal of the competition is to predict whether or not a DonorsChoose.org project proposal submitted by a teacher will be approved, using the text of project descriptions as well as additional metadata about the project, teacher, and school. DonorsChoose.org can then use this information to identify projects most likely to need further review before approval.\n",
    "</p>"
   ]
  },
  {
   "cell_type": "markdown",
   "metadata": {
    "colab_type": "text",
    "id": "kO2Kg7TgCyl4"
   },
   "source": [
    "## About the DonorsChoose Data Set\n",
    "\n",
    "The `train.csv` data set provided by DonorsChoose contains the following features:\n",
    "\n",
    "Feature | Description \n",
    "----------|---------------\n",
    "**`project_id`** | A unique identifier for the proposed project. **Example:** `p036502`   \n",
    "**`project_title`**    | Title of the project. **Examples:**<br><ul><li><code>Art Will Make You Happy!</code></li><li><code>First Grade Fun</code></li></ul> \n",
    "**`project_grade_category`** | Grade level of students for which the project is targeted. One of the following enumerated values: <br/><ul><li><code>Grades PreK-2</code></li><li><code>Grades 3-5</code></li><li><code>Grades 6-8</code></li><li><code>Grades 9-12</code></li></ul>  \n",
    " **`project_subject_categories`** | One or more (comma-separated) subject categories for the project from the following enumerated list of values:  <br/><ul><li><code>Applied Learning</code></li><li><code>Care &amp; Hunger</code></li><li><code>Health &amp; Sports</code></li><li><code>History &amp; Civics</code></li><li><code>Literacy &amp; Language</code></li><li><code>Math &amp; Science</code></li><li><code>Music &amp; The Arts</code></li><li><code>Special Needs</code></li><li><code>Warmth</code></li></ul><br/> **Examples:** <br/><ul><li><code>Music &amp; The Arts</code></li><li><code>Literacy &amp; Language, Math &amp; Science</code></li>  \n",
    "  **`school_state`** | State where school is located ([Two-letter U.S. postal code](https://en.wikipedia.org/wiki/List_of_U.S._state_abbreviations#Postal_codes)). **Example:** `WY`\n",
    "**`project_subject_subcategories`** | One or more (comma-separated) subject subcategories for the project. **Examples:** <br/><ul><li><code>Literacy</code></li><li><code>Literature &amp; Writing, Social Sciences</code></li></ul> \n",
    "**`project_resource_summary`** | An explanation of the resources needed for the project. **Example:** <br/><ul><li><code>My students need hands on literacy materials to manage sensory needs!</code</li></ul> \n",
    "**`project_essay_1`**    | First application essay<sup>*</sup>  \n",
    "**`project_essay_2`**    | Second application essay<sup>*</sup> \n",
    "**`project_essay_3`**    | Third application essay<sup>*</sup> \n",
    "**`project_essay_4`**    | Fourth application essay<sup>*</sup> \n",
    "**`project_submitted_datetime`** | Datetime when project application was submitted. **Example:** `2016-04-28 12:43:56.245`   \n",
    "**`teacher_id`** | A unique identifier for the teacher of the proposed project. **Example:** `bdf8baa8fedef6bfeec7ae4ff1c15c56`  \n",
    "**`teacher_prefix`** | Teacher's title. One of the following enumerated values: <br/><ul><li><code>nan</code></li><li><code>Dr.</code></li><li><code>Mr.</code></li><li><code>Mrs.</code></li><li><code>Ms.</code></li><li><code>Teacher.</code></li></ul>  \n",
    "**`teacher_number_of_previously_posted_projects`** | Number of project applications previously submitted by the same teacher. **Example:** `2` \n",
    "\n",
    "<sup>*</sup> See the section <b>Notes on the Essay Data</b> for more details about these features.\n",
    "\n",
    "Additionally, the `resources.csv` data set provides more data about the resources required for each project. Each line in this file represents a resource required by a project:\n",
    "\n",
    "Feature | Description \n",
    "----------|---------------\n",
    "**`id`** | A `project_id` value from the `train.csv` file.  **Example:** `p036502`   \n",
    "**`description`** | Desciption of the resource. **Example:** `Tenor Saxophone Reeds, Box of 25`   \n",
    "**`quantity`** | Quantity of the resource required. **Example:** `3`   \n",
    "**`price`** | Price of the resource required. **Example:** `9.95`   \n",
    "\n",
    "**Note:** Many projects require multiple resources. The `id` value corresponds to a `project_id` in train.csv, so you use it as a key to retrieve all resources needed for a project:\n",
    "\n",
    "The data set contains the following label (the value you will attempt to predict):\n",
    "\n",
    "Label | Description\n",
    "----------|---------------\n",
    "`project_is_approved` | A binary flag indicating whether DonorsChoose approved the project. A value of `0` indicates the project was not approved, and a value of `1` indicates the project was approved."
   ]
  },
  {
   "cell_type": "markdown",
   "metadata": {
    "colab_type": "text",
    "id": "dBGA_YStCyl6"
   },
   "source": [
    "### Notes on the Essay Data\n",
    "\n",
    "<ul>\n",
    "Prior to May 17, 2016, the prompts for the essays were as follows:\n",
    "<li>__project_essay_1:__ \"Introduce us to your classroom\"</li>\n",
    "<li>__project_essay_2:__ \"Tell us more about your students\"</li>\n",
    "<li>__project_essay_3:__ \"Describe how your students will use the materials you're requesting\"</li>\n",
    "<li>__project_essay_3:__ \"Close by sharing why your project will make a difference\"</li>\n",
    "</ul>\n",
    "\n",
    "\n",
    "<ul>\n",
    "Starting on May 17, 2016, the number of essays was reduced from 4 to 2, and the prompts for the first 2 essays were changed to the following:<br>\n",
    "<li>__project_essay_1:__ \"Describe your students: What makes your students special? Specific details about their background, your neighborhood, and your school are all helpful.\"</li>\n",
    "<li>__project_essay_2:__ \"About your project: How will these materials make a difference in your students' learning and improve their school lives?\"</li>\n",
    "<br>For all projects with project_submitted_datetime of 2016-05-17 and later, the values of project_essay_3 and project_essay_4 will be NaN.\n",
    "</ul>\n"
   ]
  },
  {
   "cell_type": "code",
   "execution_count": 2,
   "metadata": {},
   "outputs": [],
   "source": [
    "import os \n",
    "os.chdir ('E:\\project\\knn')"
   ]
  },
  {
   "cell_type": "code",
   "execution_count": null,
   "metadata": {
    "colab": {},
    "colab_type": "code",
    "id": "XTrCJ5p9Cyl7",
    "outputId": "06c35f2f-d281-4345-9668-f8f44b28d6ac"
   },
   "outputs": [],
   "source": [
    "%matplotlib inline\n",
    "import warnings\n",
    "warnings.filterwarnings(\"ignore\")\n",
    "\n",
    "import sqlite3\n",
    "import pandas as pd\n",
    "import numpy as np\n",
    "import nltk\n",
    "import string\n",
    "import matplotlib.pyplot as plt\n",
    "import seaborn as sns\n",
    "from sklearn.feature_extraction.text import TfidfTransformer\n",
    "from sklearn.feature_extraction.text import TfidfVectorizer\n",
    "\n",
    "from sklearn.feature_extraction.text import CountVectorizer\n",
    "from sklearn.metrics import confusion_matrix\n",
    "from sklearn import metrics\n",
    "from sklearn.metrics import roc_curve, auc\n",
    "from nltk.stem.porter import PorterStemmer\n",
    "\n",
    "import re\n",
    "# Tutorial about Python regular expressions: https://pymotw.com/2/re/\n",
    "import string\n",
    "from nltk.corpus import stopwords\n",
    "from nltk.stem import PorterStemmer\n",
    "from nltk.stem.wordnet import WordNetLemmatizer\n",
    "\n",
    "from gensim.models import Word2Vec\n",
    "from gensim.models import KeyedVectors\n",
    "import pickle\n",
    "\n",
    "from tqdm import tqdm\n",
    "import os\n",
    "\n",
    "from plotly import plotly\n",
    "import plotly.offline as offline\n",
    "import plotly.graph_objs as go\n",
    "offline.init_notebook_mode()\n",
    "from collections import Counter"
   ]
  },
  {
   "cell_type": "markdown",
   "metadata": {
    "colab_type": "text",
    "id": "MjknLZQqCymQ"
   },
   "source": [
    "## 1.1 Reading Data"
   ]
  },
  {
   "cell_type": "code",
   "execution_count": null,
   "metadata": {
    "colab": {},
    "colab_type": "code",
    "id": "abtcqBS8CymT"
   },
   "outputs": [],
   "source": [
    "project_data = pd.read_csv('train_data.csv')\n",
    "resource_data = pd.read_csv('resources.csv')\n",
    "#project_data=project_data.sample(n=1000,random_state=0)\n",
    "project_data['teacher_prefix']=project_data['teacher_prefix'].fillna(' ')"
   ]
  },
  {
   "cell_type": "code",
   "execution_count": null,
   "metadata": {},
   "outputs": [],
   "source": [
    "y_value_counts = project_data['project_is_approved'].value_counts()\n",
    "print(\"Number of projects thar are approved for funding \", y_value_counts[1], \", (\", (y_value_counts[1]/(y_value_counts[1]+y_value_counts[0]))*100,\"%)\")\n",
    "print(\"Number of projects thar are not approved for funding \", y_value_counts[0], \", (\", (y_value_counts[0]/(y_value_counts[1]+y_value_counts[0]))*100,\"%)\")"
   ]
  },
  {
   "cell_type": "code",
   "execution_count": null,
   "metadata": {
    "colab": {},
    "colab_type": "code",
    "id": "Prf2ghjDCymX",
    "outputId": "226c1b3c-35c9-48bd-afc9-7a819c871e8d"
   },
   "outputs": [],
   "source": [
    "print(\"Number of data points in train data\", project_data.shape)\n",
    "print('-'*50)\n",
    "print(\"The attributes of data :\", project_data.columns.values)"
   ]
  },
  {
   "cell_type": "markdown",
   "metadata": {},
   "source": [
    "### Sort Data from oldest to Newest."
   ]
  },
  {
   "cell_type": "code",
   "execution_count": null,
   "metadata": {
    "colab": {},
    "colab_type": "code",
    "id": "ntdWuRoUCymj",
    "outputId": "7f1911f2-61b8-4069-bfb0-9fdfeb2419e3"
   },
   "outputs": [],
   "source": [
    "print(\"Number of data points in train data\", resource_data.shape)\n",
    "print(resource_data.columns.values)\n",
    "resource_data.head(2)"
   ]
  },
  {
   "cell_type": "markdown",
   "metadata": {
    "colab_type": "text",
    "id": "6WZaYhwJCymp"
   },
   "source": [
    "## 1.2 preprocessing of `project_subject_categories`"
   ]
  },
  {
   "cell_type": "code",
   "execution_count": null,
   "metadata": {
    "colab": {},
    "colab_type": "code",
    "id": "Mdkhq7PRCymr"
   },
   "outputs": [],
   "source": [
    "catogories = list(project_data['project_subject_categories'].values)\n",
    "# remove special characters from list of strings python: https://stackoverflow.com/a/47301924/4084039\n",
    "\n",
    "# https://www.geeksforgeeks.org/removing-stop-words-nltk-python/\n",
    "# https://stackoverflow.com/questions/23669024/how-to-strip-a-specific-word-from-a-string\n",
    "# https://stackoverflow.com/questions/8270092/remove-all-whitespace-in-a-string-in-python\n",
    "cat_list = []\n",
    "for i in catogories:\n",
    "    temp = \"\"\n",
    "    # consider we have text like this \"Math & Science, Warmth, Care & Hunger\"\n",
    "    for j in i.split(','): # it will split it in three parts [\"Math & Science\", \"Warmth\", \"Care & Hunger\"]\n",
    "        if 'The' in j.split(): # this will split each of the catogory based on space \"Math & Science\"=> \"Math\",\"&\", \"Science\"\n",
    "            j=j.replace('The','') # if we have the words \"The\" we are going to replace it with ''(i.e removing 'The')\n",
    "        j = j.replace(' ','') # we are placeing all the ' '(space) with ''(empty) ex:\"Math & Science\"=>\"Math&Science\"\n",
    "        temp+=j.strip()+\" \" #\" abc \".strip() will return \"abc\", remove the trailing spaces\n",
    "        temp = temp.replace('&','_') # we are replacing the & value into \n",
    "    cat_list.append(temp.strip())\n",
    "    \n",
    "project_data['clean_categories'] = cat_list\n",
    "project_data.drop(['project_subject_categories'], axis=1, inplace=True)\n",
    "\n",
    "from collections import Counter\n",
    "my_counter = Counter()\n",
    "for word in project_data['clean_categories'].values:\n",
    "    my_counter.update(word.split())\n",
    "\n",
    "cat_dict = dict(my_counter)\n",
    "sorted_cat_dict = dict(sorted(cat_dict.items(), key=lambda kv: kv[1]))\n"
   ]
  },
  {
   "cell_type": "markdown",
   "metadata": {
    "colab_type": "text",
    "id": "386yx3T2Cymv"
   },
   "source": [
    "## 1.3 preprocessing of `project_subject_subcategories`"
   ]
  },
  {
   "cell_type": "code",
   "execution_count": null,
   "metadata": {
    "colab": {},
    "colab_type": "code",
    "id": "4QSP0r8XCymw"
   },
   "outputs": [],
   "source": [
    "sub_catogories = list(project_data['project_subject_subcategories'].values)\n",
    "# remove special characters from list of strings python: https://stackoverflow.com/a/47301924/4084039\n",
    "\n",
    "# https://www.geeksforgeeks.org/removing-stop-words-nltk-python/\n",
    "# https://stackoverflow.com/questions/23669024/how-to-strip-a-specific-word-from-a-string\n",
    "# https://stackoverflow.com/questions/8270092/remove-all-whitespace-in-a-string-in-python\n",
    "\n",
    "sub_cat_list = []\n",
    "for i in sub_catogories:\n",
    "    temp = \"\"\n",
    "    # consider we have text like this \"Math & Science, Warmth, Care & Hunger\"\n",
    "    for j in i.split(','): # it will split it in three parts [\"Math & Science\", \"Warmth\", \"Care & Hunger\"]\n",
    "        if 'The' in j.split(): # this will split each of the catogory based on space \"Math & Science\"=> \"Math\",\"&\", \"Science\"\n",
    "            j=j.replace('The','') # if we have the words \"The\" we are going to replace it with ''(i.e removing 'The')\n",
    "        j = j.replace(' ','') # we are placeing all the ' '(space) with ''(empty) ex:\"Math & Science\"=>\"Math&Science\"\n",
    "        temp +=j.strip()+\" \"#\" abc \".strip() will return \"abc\", remove the trailing spaces\n",
    "        temp = temp.replace('&','_')\n",
    "    sub_cat_list.append(temp.strip())\n",
    "\n",
    "project_data['clean_subcategories'] = sub_cat_list\n",
    "project_data.drop(['project_subject_subcategories'], axis=1, inplace=True)\n",
    "\n",
    "# count of all the words in corpus python: https://stackoverflow.com/a/22898595/4084039\n",
    "my_counter = Counter()\n",
    "for word in project_data['clean_subcategories'].values:\n",
    "    my_counter.update(word.split())\n",
    "    \n",
    "sub_cat_dict = dict(my_counter)\n",
    "sorted_sub_cat_dict = dict(sorted(sub_cat_dict.items(), key=lambda kv: kv[1]))"
   ]
  },
  {
   "cell_type": "markdown",
   "metadata": {
    "colab_type": "text",
    "id": "NANzhWlLCynN"
   },
   "source": [
    "## 1.3 Text preprocessing"
   ]
  },
  {
   "cell_type": "code",
   "execution_count": null,
   "metadata": {
    "colab": {},
    "colab_type": "code",
    "id": "yqsmu-BTCynQ"
   },
   "outputs": [],
   "source": [
    "# merge two column text dataframe: \n",
    "project_data[\"essay\"] = project_data[\"project_essay_1\"].map(str) +\\\n",
    "                        project_data[\"project_essay_2\"].map(str) + \\\n",
    "                        project_data[\"project_essay_3\"].map(str) + \\\n",
    "                        project_data[\"project_essay_4\"].map(str)"
   ]
  },
  {
   "cell_type": "code",
   "execution_count": null,
   "metadata": {
    "colab": {},
    "colab_type": "code",
    "id": "xxtnd3maCynV",
    "outputId": "2002cbb7-9006-4764-ee13-c990d1a3a99e"
   },
   "outputs": [],
   "source": [
    "project_data.head(2)"
   ]
  },
  {
   "cell_type": "code",
   "execution_count": null,
   "metadata": {
    "colab": {},
    "colab_type": "code",
    "id": "TCl7L1DhCyne",
    "outputId": "c1e9c200-8868-4b26-adbd-7836d815abef"
   },
   "outputs": [],
   "source": [
    "# printing some random reviews\n",
    "print(project_data['essay'].values[0])\n"
   ]
  },
  {
   "cell_type": "code",
   "execution_count": null,
   "metadata": {
    "colab": {},
    "colab_type": "code",
    "id": "Yqj4vGVoCynh"
   },
   "outputs": [],
   "source": [
    "# https://stackoverflow.com/a/47091490/4084039\n",
    "import re\n",
    "\n",
    "def decontracted(phrase):\n",
    "    # specific\n",
    "    phrase = re.sub(r\"won't\", \"will not\", phrase)\n",
    "    phrase = re.sub(r\"can\\'t\", \"can not\", phrase)\n",
    "\n",
    "    # general\n",
    "    phrase = re.sub(r\"n\\'t\", \" not\", phrase)\n",
    "    phrase = re.sub(r\"\\'re\", \" are\", phrase)\n",
    "    phrase = re.sub(r\"\\'s\", \" is\", phrase)\n",
    "    phrase = re.sub(r\"\\'d\", \" would\", phrase)\n",
    "    phrase = re.sub(r\"\\'ll\", \" will\", phrase)\n",
    "    phrase = re.sub(r\"\\'t\", \" not\", phrase)\n",
    "    phrase = re.sub(r\"\\'ve\", \" have\", phrase)\n",
    "    phrase = re.sub(r\"\\'m\", \" am\", phrase)\n",
    "    return phrase"
   ]
  },
  {
   "cell_type": "code",
   "execution_count": null,
   "metadata": {
    "colab": {},
    "colab_type": "code",
    "id": "aDUbe9piCynj",
    "outputId": "cd082bbf-9ba2-4373-ea65-73c45627bb7d"
   },
   "outputs": [],
   "source": [
    "sent = decontracted(project_data['essay'].values[1])\n",
    "print(sent)\n",
    "print(\"=\"*50)"
   ]
  },
  {
   "cell_type": "code",
   "execution_count": null,
   "metadata": {
    "colab": {},
    "colab_type": "code",
    "id": "vXSbHYJ4Cynp",
    "outputId": "1becc1e1-bb25-48aa-f44f-32c99df9e13a"
   },
   "outputs": [],
   "source": [
    "# \\r \\n \\t remove from string python: http://texthandler.com/info/remove-line-breaks-python/\n",
    "sent = sent.replace('\\\\r', ' ')\n",
    "sent = sent.replace('\\\\\"', ' ')\n",
    "sent = sent.replace('\\\\n', ' ')\n",
    "print(sent)"
   ]
  },
  {
   "cell_type": "code",
   "execution_count": null,
   "metadata": {
    "colab": {},
    "colab_type": "code",
    "id": "67Agrz_YCynt",
    "outputId": "ec6bf4e3-c419-4740-9989-fa53128abe20"
   },
   "outputs": [],
   "source": [
    "#remove spacial character: https://stackoverflow.com/a/5843547/4084039\n",
    "sent = re.sub('[^A-Za-z0-9]+', ' ', sent)\n",
    "print(sent)"
   ]
  },
  {
   "cell_type": "code",
   "execution_count": null,
   "metadata": {
    "colab": {},
    "colab_type": "code",
    "id": "hhyPw-8wCyny"
   },
   "outputs": [],
   "source": [
    "# https://gist.github.com/sebleier/554280\n",
    "# we are removing the words from the stop words list: 'no', 'nor', 'not'\n",
    "stopwords= ['i', 'me', 'my', 'myself', 'we', 'our', 'ours', 'ourselves', 'you', \"you're\", \"you've\",\\\n",
    "            \"you'll\", \"you'd\", 'your', 'yours', 'yourself', 'yourselves', 'he', 'him', 'his', 'himself', \\\n",
    "            'she', \"she's\", 'her', 'hers', 'herself', 'it', \"it's\", 'its', 'itself', 'they', 'them', 'their',\\\n",
    "            'theirs', 'themselves', 'what', 'which', 'who', 'whom', 'this', 'that', \"that'll\", 'these', 'those', \\\n",
    "            'am', 'is', 'are', 'was', 'were', 'be', 'been', 'being', 'have', 'has', 'had', 'having', 'do', 'does', \\\n",
    "            'did', 'doing', 'a', 'an', 'the', 'and', 'but', 'if', 'or', 'because', 'as', 'until', 'while', 'of', \\\n",
    "            'at', 'by', 'for', 'with', 'about', 'against', 'between', 'into', 'through', 'during', 'before', 'after',\\\n",
    "            'above', 'below', 'to', 'from', 'up', 'down', 'in', 'out', 'on', 'off', 'over', 'under', 'again', 'further',\\\n",
    "            'then', 'once', 'here', 'there', 'when', 'where', 'why', 'how', 'all', 'any', 'both', 'each', 'few', 'more',\\\n",
    "            'most', 'other', 'some', 'such', 'only', 'own', 'same', 'so', 'than', 'too', 'very', \\\n",
    "            's', 't', 'can', 'will', 'just', 'don', \"don't\", 'should', \"should've\", 'now', 'd', 'll', 'm', 'o', 're', \\\n",
    "            've', 'y', 'ain', 'aren', \"aren't\", 'couldn', \"couldn't\", 'didn', \"didn't\", 'doesn', \"doesn't\", 'hadn',\\\n",
    "            \"hadn't\", 'hasn', \"hasn't\", 'haven', \"haven't\", 'isn', \"isn't\", 'ma', 'mightn', \"mightn't\", 'mustn',\\\n",
    "            \"mustn't\", 'needn', \"needn't\", 'shan', \"shan't\", 'shouldn', \"shouldn't\", 'wasn', \"wasn't\", 'weren', \"weren't\", \\\n",
    "            'won', \"won't\", 'wouldn', \"wouldn't\"]"
   ]
  },
  {
   "cell_type": "code",
   "execution_count": null,
   "metadata": {
    "colab": {},
    "colab_type": "code",
    "id": "d6RCdphRCyn0",
    "outputId": "a59d693e-fa5b-4821-e173-e308905b96d5"
   },
   "outputs": [],
   "source": [
    "# Combining all the above stundents \n",
    "def Text_cleaner(data):\n",
    "    from tqdm import tqdm\n",
    "    preprocessed_essays = []\n",
    "    # tqdm is for printing the status bar\n",
    "    for sentance in tqdm(data.values):\n",
    "        sent = decontracted(sentance)\n",
    "        sent = sent.replace('\\\\r', ' ')\n",
    "        sent = sent.replace('\\\\\"', ' ')\n",
    "        sent = sent.replace('\\\\n', ' ')\n",
    "        sent = re.sub('[^A-Za-z0-9]+', ' ', sent)\n",
    "        # https://gist.github.com/sebleier/554280\n",
    "        sent = ' '.join(e for e in sent.split() if e.lower() not in stopwords)\n",
    "        preprocessed_essays.append(sent.lower().strip())\n",
    "    return preprocessed_essays"
   ]
  },
  {
   "cell_type": "code",
   "execution_count": null,
   "metadata": {
    "colab": {},
    "colab_type": "code",
    "id": "rPo9cLvNCyn3",
    "outputId": "f4069bd0-65e3-46af-e799-f7e9132301bb"
   },
   "outputs": [],
   "source": [
    "# after preprocesing\n",
    "preprocessed_essays=Text_cleaner(project_data['essay'])"
   ]
  },
  {
   "cell_type": "code",
   "execution_count": null,
   "metadata": {},
   "outputs": [],
   "source": [
    "preprocessed_essays[1]"
   ]
  },
  {
   "cell_type": "code",
   "execution_count": null,
   "metadata": {},
   "outputs": [],
   "source": [
    "project_data['essay'] = preprocessed_essays\n",
    "project_data.drop(['project_essay_1'], axis=1, inplace=True)\n",
    "project_data.drop(['project_essay_2'], axis=1, inplace=True)\n",
    "project_data.drop(['project_essay_3'], axis=1, inplace=True)\n",
    "project_data.drop(['project_essay_4'], axis=1, inplace=True)\n",
    "project_data.head(5)"
   ]
  },
  {
   "cell_type": "markdown",
   "metadata": {
    "colab_type": "text",
    "id": "QeUw6WMKCyn7"
   },
   "source": [
    "<h2><font color='red'> 1.4 Preprocessing of `project_title`</font></h2>"
   ]
  },
  {
   "cell_type": "code",
   "execution_count": null,
   "metadata": {
    "colab": {},
    "colab_type": "code",
    "id": "Ql9ttfW3Cyn7"
   },
   "outputs": [],
   "source": [
    "# similarly you can preprocess the titles also\n",
    "preprocessed_project_title=Text_cleaner(project_data['project_title'])"
   ]
  },
  {
   "cell_type": "code",
   "execution_count": null,
   "metadata": {},
   "outputs": [],
   "source": [
    "preprocessed_project_title[1]"
   ]
  },
  {
   "cell_type": "code",
   "execution_count": null,
   "metadata": {},
   "outputs": [],
   "source": [
    "project_data['Cleaned_title']=preprocessed_project_title\n",
    "project_data.drop(['project_title'], axis=1, inplace=True)"
   ]
  },
  {
   "cell_type": "markdown",
   "metadata": {
    "colab_type": "text",
    "id": "NQg4ZfFtCyn9"
   },
   "source": [
    "## 1.5 Preparing data for models"
   ]
  },
  {
   "cell_type": "code",
   "execution_count": null,
   "metadata": {},
   "outputs": [],
   "source": [
    "price_data = resource_data.groupby('id').agg({'price':'sum', 'quantity':'sum'}).reset_index()\n",
    "project_data = pd.merge(project_data, price_data, on='id', how='left')"
   ]
  },
  {
   "cell_type": "code",
   "execution_count": null,
   "metadata": {
    "colab": {},
    "colab_type": "code",
    "id": "V4GS54ZTCyn-",
    "outputId": "febd575b-ed33-454e-d2d5-e8f6f635d117"
   },
   "outputs": [],
   "source": [
    "project_data.columns"
   ]
  },
  {
   "cell_type": "code",
   "execution_count": null,
   "metadata": {},
   "outputs": [],
   "source": [
    "project_data.drop(['project_resource_summary'], axis=1, inplace=True)\n",
    "project_data.drop(['Unnamed: 0'], axis=1, inplace=True)\n",
    "project_data.drop(['id'], axis=1, inplace=True)\n",
    "project_data.drop(['teacher_id'], axis=1, inplace=True)\n",
    "\n"
   ]
  },
  {
   "cell_type": "markdown",
   "metadata": {},
   "source": [
    "### adding the count of letter in each essay as a new data coloumn"
   ]
  },
  {
   "cell_type": "code",
   "execution_count": null,
   "metadata": {},
   "outputs": [],
   "source": [
    "project_data['essay_count']=project_data['essay'].str.len()\n",
    "project_data['title_count']=project_data['Cleaned_title'].str.len()"
   ]
  },
  {
   "cell_type": "markdown",
   "metadata": {},
   "source": [
    "### Adding a new coloumn\n",
    "    -- this will be used for set 5\n",
    "    -- use VADER SENTIMENT for sentiment scoring the essaay\n",
    "    "
   ]
  },
  {
   "cell_type": "code",
   "execution_count": null,
   "metadata": {},
   "outputs": [],
   "source": [
    "#https://medium.com/analytics-vidhya/simplifying-social-media-sentiment-analysis-using-vader-in-python-f9e6ec6fc52f\n",
    "from vaderSentiment.vaderSentiment import SentimentIntensityAnalyzer\n",
    "analyser = SentimentIntensityAnalyzer()\n",
    "sentiment_score=[]\n",
    "for essay in tqdm(project_data['essay']):\n",
    "        score = analyser.polarity_scores(essay)['pos']\n",
    "        sentiment_score.append(score)\n"
   ]
  },
  {
   "cell_type": "code",
   "execution_count": null,
   "metadata": {},
   "outputs": [],
   "source": [
    "project_data['essay_sentiment_score']=sentiment_score"
   ]
  },
  {
   "cell_type": "markdown",
   "metadata": {
    "colab_type": "text",
    "id": "6FDsc1epCyoD"
   },
   "source": [
    "we are going to consider\n",
    "\n",
    "       - school_state : categorical data\n",
    "       - clean_categories : categorical data\n",
    "       - clean_subcategories : categorical data\n",
    "       - project_grade_category : categorical data\n",
    "       - teacher_prefix : categorical data\n",
    "       \n",
    "       - project_title : text data\n",
    "       - text : text data\n",
    "       - project_resource_summary: text data (optinal)\n",
    "       \n",
    "       - quantity : numerical (optinal)\n",
    "       - teacher_number_of_previously_posted_projects : numerical\n",
    "       - price : numerical\n",
    "       \n",
    "       -Length of words in essay\n",
    "       -Length of words in title\n",
    "       \n",
    "       -Sentiment score of the essay (SET 5)"
   ]
  },
  {
   "cell_type": "markdown",
   "metadata": {},
   "source": [
    "### Declare the Dependant and independant variables "
   ]
  },
  {
   "cell_type": "code",
   "execution_count": null,
   "metadata": {},
   "outputs": [],
   "source": [
    "#https://stackoverflow.com/questions/29763620/how-to-select-all-columns-except-one-column-in-pandas\n",
    "X=project_data.loc[:, project_data.columns != 'project_is_approved']\n",
    "y=project_data['project_is_approved']\n",
    "X.shape"
   ]
  },
  {
   "cell_type": "markdown",
   "metadata": {},
   "source": [
    "## Splitting data into Test,Train,CV"
   ]
  },
  {
   "cell_type": "code",
   "execution_count": null,
   "metadata": {},
   "outputs": [],
   "source": [
    "# https://scikit-learn.org/stable/modules/generated/sklearn.model_selection.train_test_split.html\n",
    "\n",
    "from sklearn.model_selection import train_test_split\n",
    "\n",
    "X_train,X_test,y_train, y_test=train_test_split(X, y, test_size=0.3, random_state=0,stratify=y)\n",
    "X_train,X_cv,y_train,y_cv=train_test_split(X_train, y_train, test_size=0.3, random_state=0,stratify=y_train)\n",
    "\n",
    "\n",
    "print(X_train.shape)\n",
    "print(X_test.shape)\n",
    "print(X_cv.shape)\n",
    "print(y_train.shape)\n",
    "print(y_test.shape)\n",
    "print(y_cv.shape)\n",
    "\n",
    "\n",
    "\n"
   ]
  },
  {
   "cell_type": "code",
   "execution_count": null,
   "metadata": {},
   "outputs": [],
   "source": [
    "X.head(2)"
   ]
  },
  {
   "cell_type": "markdown",
   "metadata": {},
   "source": [
    "### Vectorize the Features"
   ]
  },
  {
   "cell_type": "code",
   "execution_count": null,
   "metadata": {
    "colab": {},
    "colab_type": "code",
    "id": "_5mt7VMXCyoF",
    "outputId": "0dbca3d7-df66-46b6-d9b3-a4035f29f8ab"
   },
   "outputs": [],
   "source": [
    "# we use count vectorizer to convert the values into one \n",
    "from sklearn.feature_extraction.text import CountVectorizer\n",
    "vectorizer = CountVectorizer(lowercase=False, binary=True)\n",
    "vectorizer.fit(X_train['clean_categories'].values)\n",
    "\n",
    "# we use the fitted CountVectorizer to convert the text to vector\n",
    "X_train_clean_categories=vectorizer.transform(X_train['clean_categories'].values)\n",
    "X_test_clean_categories=vectorizer.transform(X_test['clean_categories'].values)\n",
    "X_cv_clean_categories=vectorizer.transform(X_cv['clean_categories'].values)\n",
    "\n",
    "\n",
    "print(vectorizer.get_feature_names())\n",
    "print(\"Shape of matrix after one hot encodig \",X_train_clean_categories.shape)"
   ]
  },
  {
   "cell_type": "code",
   "execution_count": null,
   "metadata": {
    "colab": {},
    "colab_type": "code",
    "id": "npr7SzACCyoH",
    "outputId": "68c81ac7-c96e-4a19-849e-6b8213608464"
   },
   "outputs": [],
   "source": [
    "vectorizer = CountVectorizer(lowercase=False, binary=True)\n",
    "vectorizer.fit(X_train['clean_subcategories'].values)\n",
    "\n",
    "# we use the fitted CountVectorizer to convert the text to vector\n",
    "X_train_clean_sub_categories=vectorizer.transform(X_train['clean_subcategories'].values)\n",
    "X_test_clean_sub_categories=vectorizer.transform(X_test['clean_subcategories'].values)\n",
    "X_cv_clean_sub_categories=vectorizer.transform(X_cv['clean_subcategories'].values)\n",
    "\n",
    "\n",
    "print(vectorizer.get_feature_names())\n",
    "print(\"Shape of matrix after one hot encodig \",X_train_clean_sub_categories.shape)"
   ]
  },
  {
   "cell_type": "code",
   "execution_count": null,
   "metadata": {
    "colab": {},
    "colab_type": "code",
    "id": "0ecQOf-JCyoL"
   },
   "outputs": [],
   "source": [
    "vectorizer = CountVectorizer(lowercase=False, binary=True)\n",
    "vectorizer.fit(X_train['school_state'].values)\n",
    "\n",
    "# we use the fitted CountVectorizer to convert the text to vector\n",
    "X_train_skl_state=vectorizer.transform(X_train['school_state'].values)\n",
    "X_test_skl_state=vectorizer.transform(X_test['school_state'].values)\n",
    "X_cv_skl_state=vectorizer.transform(X_cv['school_state'].values)\n",
    "\n",
    "\n",
    "print(vectorizer.get_feature_names())\n",
    "print(\"Shape of matrix after one hot encodig \",X_train_skl_state.shape)"
   ]
  },
  {
   "cell_type": "code",
   "execution_count": null,
   "metadata": {},
   "outputs": [],
   "source": [
    "vectorizer = CountVectorizer(lowercase=False, binary=True)\n",
    "vectorizer.fit(X_train['teacher_prefix'].values)\n",
    "\n",
    "# we use the fitted CountVectorizer to convert the text to vector\n",
    "X_train_teacher_prefix=vectorizer.transform(X_train['teacher_prefix'].values)\n",
    "X_test_teacher_prefix=vectorizer.transform(X_test['teacher_prefix'].values)\n",
    "X_cv_teacher_prefix=vectorizer.transform(X_cv['teacher_prefix'].values)\n",
    "\n",
    "\n",
    "print(vectorizer.get_feature_names())\n",
    "print(\"Shape of matrix after one hot encodig \",X_train_teacher_prefix.shape)\n"
   ]
  },
  {
   "cell_type": "code",
   "execution_count": null,
   "metadata": {},
   "outputs": [],
   "source": [
    "vectorizer = CountVectorizer(lowercase=False, binary=True)\n",
    "vectorizer.fit(X_train['project_grade_category'].values)\n",
    "\n",
    "# we use the fitted CountVectorizer to convert the text to vector\n",
    "X_train_project_grade_category=vectorizer.transform(X_train['project_grade_category'].values)\n",
    "X_test_project_grade_category=vectorizer.transform(X_test['project_grade_category'].values)\n",
    "X_cv_project_grade_category=vectorizer.transform(X_cv['project_grade_category'].values)\n",
    "\n",
    "\n",
    "print(vectorizer.get_feature_names())\n",
    "print(\"Shape of matrix after one hot encodig \",X_train_project_grade_category.shape)\n"
   ]
  },
  {
   "cell_type": "code",
   "execution_count": null,
   "metadata": {},
   "outputs": [],
   "source": [
    "# check this one: https://www.youtube.com/watch?v=0HOqOcln3Z4&t=530s\n",
    "# standardization sklearn: https://scikit-learn.org/stable/modules/generated/sklearn.preprocessing.StandardScaler.html\n",
    "from sklearn.preprocessing import StandardScaler\n",
    "\n",
    "# price_standardized = standardScalar.fit(project_data['price'].values)\n",
    "# this will rise the error\n",
    "# ValueError: Expected 2D array, got 1D array instead: array=[725.05 213.03 329.   ... 399.   287.73   5.5 ].\n",
    "# Reshape your data either using array.reshape(-1, 1)\n",
    "\n",
    "price_scalar = StandardScaler()\n",
    "price_scalar.fit(X_train['price'].values.reshape(-1,1)) # finding the mean and standard deviation of this data\n",
    "print(f\"Mean : {price_scalar.mean_[0]}, Standard deviation : {np.sqrt(price_scalar.var_[0])}\")\n",
    "\n",
    "# Now standardize the data with above maen and variance.\n",
    "X_train_price_standardized = price_scalar.transform(X_train['price'].values.reshape(-1, 1))\n",
    "X_test_price_standardized = price_scalar.transform(X_test['price'].values.reshape(-1, 1))\n",
    "X_cv_price_standardized = price_scalar.transform(X_cv['price'].values.reshape(-1, 1))"
   ]
  },
  {
   "cell_type": "code",
   "execution_count": null,
   "metadata": {},
   "outputs": [],
   "source": [
    "quantity_scalar = StandardScaler()\n",
    "quantity_scalar.fit(X_train['quantity'].values.reshape(-1,1)) # finding the mean and standard deviation of this data\n",
    "print(f\"Mean : {quantity_scalar.mean_[0]}, Standard deviation : {np.sqrt(quantity_scalar.var_[0])}\")\n",
    "\n",
    "# Now standardize the data with above maen and variance.\n",
    "X_train_quantity_standardized = quantity_scalar.transform(X_train['quantity'].values.reshape(-1, 1))\n",
    "X_test_quantity_standardized = quantity_scalar.transform(X_test['quantity'].values.reshape(-1, 1))\n",
    "X_cv_quantity_standardized = quantity_scalar.transform(X_cv['quantity'].values.reshape(-1, 1))\n"
   ]
  },
  {
   "cell_type": "code",
   "execution_count": null,
   "metadata": {},
   "outputs": [],
   "source": [
    "count_scalar = StandardScaler()\n",
    "count_scalar.fit(X_train['essay_count'].values.reshape(-1,1)) # finding the mean and standard deviation of this data\n",
    "print(f\"Mean : {count_scalar.mean_[0]}, Standard deviation : {np.sqrt(count_scalar.var_[0])}\")\n",
    "\n",
    "# Now standardize the data with above maen and variance.\n",
    "X_train_essay_count_standardized = count_scalar.transform(X_train['essay_count'].values.reshape(-1, 1))\n",
    "X_test_essay_count_standardized = count_scalar.transform(X_test['essay_count'].values.reshape(-1, 1))\n",
    "X_cv_essay_count_standardized = count_scalar.transform(X_cv['essay_count'].values.reshape(-1, 1))"
   ]
  },
  {
   "cell_type": "code",
   "execution_count": null,
   "metadata": {},
   "outputs": [],
   "source": [
    "count_scalar = StandardScaler()\n",
    "count_scalar.fit(X_train['title_count'].values.reshape(-1,1)) # finding the mean and standard deviation of this data\n",
    "print(f\"Mean : {count_scalar.mean_[0]}, Standard deviation : {np.sqrt(count_scalar.var_[0])}\")\n",
    "\n",
    "# Now standardize the data with above maen and variance.\n",
    "X_train_title_count_standardized = count_scalar.transform(X_train['title_count'].values.reshape(-1, 1))\n",
    "X_test_title_count_standardized = count_scalar.transform(X_test['title_count'].values.reshape(-1, 1))\n",
    "X_cv_title_count_standardized = count_scalar.transform(X_cv['title_count'].values.reshape(-1, 1))"
   ]
  },
  {
   "cell_type": "markdown",
   "metadata": {
    "colab_type": "text",
    "id": "5YnkzKnmCyoN"
   },
   "source": [
    "### 1.5.2 Vectorizing Text data"
   ]
  },
  {
   "cell_type": "markdown",
   "metadata": {
    "colab_type": "text",
    "id": "W544CoFtCyoN"
   },
   "source": [
    "#### 1.5.2.1 Bag of words"
   ]
  },
  {
   "cell_type": "code",
   "execution_count": null,
   "metadata": {
    "colab": {},
    "colab_type": "code",
    "id": "2D93QosECyoP",
    "outputId": "ca16a2b1-fde3-46c0-a026-6a839ffa6e4a"
   },
   "outputs": [],
   "source": [
    "# We are considering only the words which appeared in at least 10 documents(rows or projects).\n",
    "vectorizer = CountVectorizer(min_df=10,ngram_range=(1,4), max_features=5000)\n",
    "vectorizer.fit(X_train['essay'])\n",
    "\n",
    "# we use the fitted CountVectorizer to convert the text to vector\n",
    "X_train_essay_bow=vectorizer.transform(X_train['essay'].values)\n",
    "X_test_essay_bow=vectorizer.transform(X_test['essay'].values)\n",
    "X_cv_essay_bow=vectorizer.transform(X_cv['essay'].values)\n",
    "\n",
    "\n",
    "print(\"Shape of matrix after one hot encodig \",X_train_essay_bow.shape)"
   ]
  },
  {
   "cell_type": "code",
   "execution_count": null,
   "metadata": {
    "colab": {},
    "colab_type": "code",
    "id": "rvPTRSkrCyoU"
   },
   "outputs": [],
   "source": [
    "# you can vectorize the title also \n",
    "# before you vectorize the title make sure you preprocess it\n",
    "vectorizer = CountVectorizer(min_df=5)\n",
    "vectorizer.fit(X_train['Cleaned_title'])\n",
    "\n",
    "# we use the fitted CountVectorizer to convert the text to vector\n",
    "X_train_cleaned_title_bow=vectorizer.transform(X_train['Cleaned_title'].values)\n",
    "X_test_cleaned_title_bow=vectorizer.transform(X_test['Cleaned_title'].values)\n",
    "X_cv_cleaned_title_bow=vectorizer.transform(X_cv['Cleaned_title'].values)\n",
    "\n",
    "\n",
    "print(\"Shape of matrix after one hot encodig \",X_train_cleaned_title_bow.shape)\n",
    "\n"
   ]
  },
  {
   "cell_type": "markdown",
   "metadata": {
    "colab_type": "text",
    "id": "gK_SHRpTCyol"
   },
   "source": [
    "#### 1.5.2.2 TFIDF vectorizer"
   ]
  },
  {
   "cell_type": "code",
   "execution_count": null,
   "metadata": {
    "colab": {},
    "colab_type": "code",
    "id": "l0gzc2iwCyoo",
    "outputId": "3ada03da-5eec-4a16-c7bd-915d1c9352ae"
   },
   "outputs": [],
   "source": [
    "from sklearn.feature_extraction.text import TfidfVectorizer\n",
    "vectorizer = TfidfVectorizer(min_df=10,ngram_range=(1,4), max_features=5000)\n",
    "vectorizer.fit(X_train['essay'])\n",
    "\n",
    "# we use the fitted CountVectorizer to convert the text to vector\n",
    "X_train_essay_tfidf=vectorizer.transform(X_train['essay'].values)\n",
    "X_test_essay_tfidf=vectorizer.transform(X_test['essay'].values)\n",
    "X_cv_essay_tfidf=vectorizer.transform(X_cv['essay'].values)\n",
    "\n",
    "\n",
    "print(\"Shape of matrix after one hot encodig \",X_train_essay_tfidf.shape)\n"
   ]
  },
  {
   "cell_type": "code",
   "execution_count": null,
   "metadata": {},
   "outputs": [],
   "source": [
    "# Similarly you can vectorize for title alsovectorizer = TfidfVectorizer(min_df=10)\n",
    "vectorizer = TfidfVectorizer(min_df=5)\n",
    "\n",
    "# you can vectorize the title also \n",
    "# before you vectorize the title make sure you preprocess it\n",
    "vectorizer.fit(X_train['Cleaned_title'])\n",
    "\n",
    "# we use the fitted CountVectorizer to convert the text to vector\n",
    "X_train_cleaned_title_tfidf=vectorizer.transform(X_train['Cleaned_title'].values)\n",
    "X_test_cleaned_title_tfidf=vectorizer.transform(X_test['Cleaned_title'].values)\n",
    "X_cv_cleaned_title_tfidf=vectorizer.transform(X_cv['Cleaned_title'].values)\n",
    "\n",
    "\n",
    "print(\"Shape of matrix after one hot encodig \",X_train_cleaned_title_tfidf.shape)\n",
    "\n"
   ]
  },
  {
   "cell_type": "markdown",
   "metadata": {
    "colab_type": "text",
    "id": "YHwGesZUCyo1"
   },
   "source": [
    "#### 1.5.2.3 Using Pretrained Models: Avg W2V"
   ]
  },
  {
   "cell_type": "code",
   "execution_count": null,
   "metadata": {
    "colab": {},
    "colab_type": "code",
    "id": "FcsomcruCyo2",
    "outputId": "9876bfe7-73e1-454a-b937-f66fae906539",
    "scrolled": true
   },
   "outputs": [],
   "source": [
    "'''\n",
    "# Reading glove vectors in python: https://stackoverflow.com/a/38230349/4084039\n",
    "def loadGloveModel(gloveFile):\n",
    "    print (\"Loading Glove Model\")\n",
    "    f = open(gloveFile,'r', encoding=\"utf8\")\n",
    "    model = {}\n",
    "    for line in tqdm(f):\n",
    "        splitLine = line.split()\n",
    "        word = splitLine[0]\n",
    "        embedding = np.array([float(val) for val in splitLine[1:]])\n",
    "        model[word] = embedding\n",
    "    print (\"Done.\",len(model),\" words loaded!\")\n",
    "    return model\n",
    "model = loadGloveModel('glove.42B.300d.txt')\n",
    "\n",
    "# ============================\n",
    "Output:\n",
    "    \n",
    "Loading Glove Model\n",
    "1917495it [06:32, 4879.69it/s]\n",
    "Done. 1917495  words loaded!\n",
    "\n",
    "# ============================\n",
    "\n",
    "words = []\n",
    "for i in preproced_texts:\n",
    "    words.extend(i.split(' '))\n",
    "\n",
    "for i in preproced_titles:\n",
    "    words.extend(i.split(' '))\n",
    "print(\"all the words in the coupus\", len(words))\n",
    "words = set(words)\n",
    "print(\"the unique words in the coupus\", len(words))\n",
    "\n",
    "inter_words = set(model.keys()).intersection(words)\n",
    "print(\"The number of words that are present in both glove vectors and our coupus\", \\\n",
    "      len(inter_words),\"(\",np.round(len(inter_words)/len(words)*100,3),\"%)\")\n",
    "\n",
    "words_courpus = {}\n",
    "words_glove = set(model.keys())\n",
    "for i in words:\n",
    "    if i in words_glove:\n",
    "        words_courpus[i] = model[i]\n",
    "print(\"word 2 vec length\", len(words_courpus))\n",
    "\n",
    "\n",
    "# stronging variables into pickle files python: http://www.jessicayung.com/how-to-use-pickle-to-save-and-load-variables-in-python/\n",
    "\n",
    "import pickle\n",
    "with open('glove_vectors', 'wb') as f:\n",
    "    pickle.dump(words_courpus, f)\n",
    "\n",
    "\n",
    "'''"
   ]
  },
  {
   "cell_type": "code",
   "execution_count": null,
   "metadata": {
    "colab": {},
    "colab_type": "code",
    "id": "Gu0YB3p4Cyo8"
   },
   "outputs": [],
   "source": [
    "# stronging variables into pickle files python: http://www.jessicayung.com/how-to-use-pickle-to-save-and-load-variables-in-python/\n",
    "# make sure you have the glove_vectors file\n",
    "with open('glove_vectors', 'rb') as f:\n",
    "    model = pickle.load(f)\n",
    "    glove_words =  set(model.keys())"
   ]
  },
  {
   "cell_type": "code",
   "execution_count": null,
   "metadata": {
    "colab": {},
    "colab_type": "code",
    "id": "TEKi0VqVCyo_",
    "outputId": "23b34800-bc16-471c-c966-256d45cbdbcd",
    "scrolled": true
   },
   "outputs": [],
   "source": [
    "# average Word2Vec\n",
    "# compute average word2vec for each review.\n",
    "def avg_w2v_vectors(preprocessed_essays):\n",
    "    avg_w2v_vectors_text = []; # the avg-w2v for each sentence/review is stored in this list\n",
    "    for sentence in tqdm(preprocessed_essays): # for each review/sentence\n",
    "        vector = np.zeros(300) # as word vectors are of zero length\n",
    "        cnt_words =0; # num of words with a valid vector in the sentence/review\n",
    "        for word in sentence.split(): # for each word in a review/sentence\n",
    "            if word in glove_words:\n",
    "                vector += model[word]\n",
    "                cnt_words += 1\n",
    "        if cnt_words != 0:\n",
    "            vector /= cnt_words\n",
    "        avg_w2v_vectors_text.append(vector)\n",
    "    return avg_w2v_vectors_text\n",
    "\n",
    "X_train_essay_w2v=avg_w2v_vectors(X_train['essay'])\n",
    "X_test_essay_w2v=avg_w2v_vectors(X_test['essay'])\n",
    "X_cv_essay_w2v=avg_w2v_vectors(X_cv['essay'])\n",
    "\n",
    "X_train_cleaned_title_w2v=avg_w2v_vectors(X_train['Cleaned_title'])\n",
    "X_test_cleaned_title_w2v=avg_w2v_vectors(X_test['Cleaned_title'])\n",
    "X_cv_cleaned_title_w2v=avg_w2v_vectors(X_cv['Cleaned_title'])\n",
    "\n"
   ]
  },
  {
   "cell_type": "markdown",
   "metadata": {
    "colab_type": "text",
    "id": "_s3QN_ZNCypD"
   },
   "source": [
    "#### 1.5.2.3 Using Pretrained Models: TFIDF weighted W2V"
   ]
  },
  {
   "cell_type": "code",
   "execution_count": null,
   "metadata": {},
   "outputs": [],
   "source": [
    "# S = [\"abc def pqr\", \"def def def abc\", \"pqr pqr def\"]\n",
    "tfidf_model = TfidfVectorizer()\n",
    "tfidf_model.fit(X_train['essay'])\n",
    "# we are converting a dictionary with word as a key, and the idf as a value\n",
    "dictionary = dict(zip(tfidf_model.get_feature_names(), list(tfidf_model.idf_)))\n",
    "tfidf_words_essay = set(tfidf_model.get_feature_names())\n",
    "print(len(tfidf_words_essay))\n",
    "\n"
   ]
  },
  {
   "cell_type": "code",
   "execution_count": null,
   "metadata": {
    "colab": {},
    "colab_type": "code",
    "id": "8aB83HDUCypL",
    "outputId": "c1329ce0-bc01-443f-f1c8-bd2ce2bd50f3",
    "scrolled": true
   },
   "outputs": [],
   "source": [
    "# average Word2Vec\n",
    "# compute average word2vec for each review.\n",
    "def tfidf_w2v_vectors(tfidf_words,preprocessed_essays):\n",
    "    tfidf_w2v_vectors_text = []; # the avg-w2v for each sentence/review is stored in this list\n",
    "    for sentence in tqdm(preprocessed_essays): # for each review/sentence\n",
    "        vector = np.zeros(300) # as word vectors are of zero length\n",
    "        tf_idf_weight =0; # num of words with a valid vector in the sentence/review\n",
    "        for word in sentence.split(): # for each word in a review/sentence\n",
    "            if (word in glove_words) and (word in tfidf_words):\n",
    "                vec = model[word] # getting the vector for each word\n",
    "                # here we are multiplying idf value(dictionary[word]) and the tf value((sentence.count(word)/len(sentence.split())))\n",
    "                tf_idf = dictionary[word]*(sentence.count(word)/len(sentence.split())) # getting the tfidf value for each word\n",
    "                vector += (vec * tf_idf) # calculating tfidf weighted w2v\n",
    "                tf_idf_weight += tf_idf\n",
    "        if tf_idf_weight != 0:\n",
    "            vector /= tf_idf_weight\n",
    "        tfidf_w2v_vectors_text.append(vector)\n",
    "    return tfidf_w2v_vectors_text\n",
    "\n",
    "X_train_essay_tfidf_w2v=tfidf_w2v_vectors(tfidf_words_essay,X_train['essay'])\n",
    "X_test_essay_tfidf_w2v=tfidf_w2v_vectors(tfidf_words_essay,X_test['essay'])\n",
    "X_cv_essay_tfidf_w2v=tfidf_w2v_vectors(tfidf_words_essay,X_cv['essay'])\n",
    "\n"
   ]
  },
  {
   "cell_type": "code",
   "execution_count": null,
   "metadata": {
    "colab": {},
    "colab_type": "code",
    "id": "yknBsjfOCypP"
   },
   "outputs": [],
   "source": [
    "# S = [\"abc def pqr\", \"def def def abc\", \"pqr pqr def\"]\n",
    "tfidf_model = TfidfVectorizer()\n",
    "tfidf_model.fit(X_train['Cleaned_title'])\n",
    "# we are converting a dictionary with word as a key, and the idf as a value\n",
    "dictionary = dict(zip(tfidf_model.get_feature_names(), list(tfidf_model.idf_)))\n",
    "tfidf_words_Cleaned_title = set(tfidf_model.get_feature_names())\n",
    "print(len(tfidf_words_Cleaned_title))\n"
   ]
  },
  {
   "cell_type": "code",
   "execution_count": null,
   "metadata": {},
   "outputs": [],
   "source": [
    "X_train_cleaned_title_tfidf_w2v=tfidf_w2v_vectors(tfidf_words_Cleaned_title,X_train['Cleaned_title'])\n",
    "X_test_cleaned_title_tfidf_w2v=tfidf_w2v_vectors(tfidf_words_Cleaned_title,X_test['Cleaned_title'])\n",
    "X_cv_cleaned_title_tfidf_w2v=tfidf_w2v_vectors(tfidf_words_Cleaned_title,X_cv['Cleaned_title'])\n"
   ]
  },
  {
   "cell_type": "code",
   "execution_count": null,
   "metadata": {},
   "outputs": [],
   "source": [
    "\n",
    "X_train_prev_proj=X_train['teacher_number_of_previously_posted_projects'][:,np.newaxis]\n",
    "\n",
    "X_test_prev_proj=X_test['teacher_number_of_previously_posted_projects'][:,np.newaxis]\n",
    "X_cv_prev_proj=X_cv['teacher_number_of_previously_posted_projects'][:,np.newaxis]\n",
    "\n"
   ]
  },
  {
   "cell_type": "markdown",
   "metadata": {
    "colab_type": "text",
    "id": "5UbaJH21Cypa"
   },
   "source": [
    "### 1.5.4 Merging all the above features"
   ]
  },
  {
   "cell_type": "markdown",
   "metadata": {
    "colab_type": "text",
    "id": "fAZixvIeCypb"
   },
   "source": [
    "- we need to merge all the numerical vectors i.e catogorical, text, numerical vectors"
   ]
  },
  {
   "cell_type": "code",
   "execution_count": null,
   "metadata": {
    "colab": {},
    "colab_type": "code",
    "id": "J7uuEmryCype",
    "outputId": "b0360c1d-592a-4bd7-b8c7-a20d91219fa8"
   },
   "outputs": [],
   "source": [
    "# merge two sparse matrices: https://stackoverflow.com/a/19710648/4084039\n",
    "from scipy.sparse import hstack\n",
    "\n",
    "\n",
    "# with the same hstack function we are concatinating a sparse matrix and a dense matirx :)\n",
    "X_train_bow = hstack((X_train_clean_categories, X_train_clean_sub_categories,X_train_skl_state,X_train_teacher_prefix,\n",
    "            X_train_project_grade_category,X_train_price_standardized,X_train_quantity_standardized,X_train_prev_proj,\n",
    "            X_train_essay_bow,X_train_cleaned_title_bow,X_train_essay_count_standardized,X_train_title_count_standardized\n",
    "            )).toarray()\n",
    "\n",
    "\n",
    "X_test_bow = hstack((X_test_clean_categories, X_test_clean_sub_categories,X_test_skl_state,X_test_teacher_prefix,\n",
    "            X_test_project_grade_category,X_test_price_standardized,X_test_quantity_standardized,X_test_prev_proj,\n",
    "            X_test_essay_bow,X_test_cleaned_title_bow,X_test_essay_count_standardized,X_test_title_count_standardized\n",
    "            )).toarray()\n",
    "\n",
    "\n",
    "X_cv_bow = hstack((X_cv_clean_categories, X_cv_clean_sub_categories,X_cv_skl_state,X_cv_teacher_prefix,\n",
    "            X_cv_project_grade_category,X_cv_price_standardized,X_cv_quantity_standardized,X_cv_prev_proj,\n",
    "            X_cv_essay_bow,X_cv_cleaned_title_bow,X_cv_essay_count_standardized,X_cv_title_count_standardized\n",
    "            )).toarray()\n",
    "\n",
    "\n",
    "print(X_train_bow.shape)\n",
    "print(X_test_bow.shape)\n",
    "print(X_cv_bow.shape)\n"
   ]
  },
  {
   "cell_type": "code",
   "execution_count": null,
   "metadata": {},
   "outputs": [],
   "source": [
    "\n",
    "# with the same hstack function we are concatinating a sparse matrix and a dense matirx :)\n",
    "X_train_tfidf = hstack((X_train_clean_categories, X_train_clean_sub_categories,X_train_skl_state,X_train_teacher_prefix,\n",
    "            X_train_project_grade_category,X_train_price_standardized,X_train_quantity_standardized,X_train_prev_proj,\n",
    "            X_train_essay_tfidf,X_train_cleaned_title_tfidf,X_train_essay_count_standardized,X_train_title_count_standardized\n",
    "            )).toarray()\n",
    "\n",
    "\n",
    "X_test_tfidf = hstack((X_test_clean_categories, X_test_clean_sub_categories,X_test_skl_state,X_test_teacher_prefix,\n",
    "            X_test_project_grade_category,X_test_price_standardized,X_test_quantity_standardized,X_test_prev_proj,\n",
    "            X_test_essay_tfidf,X_test_cleaned_title_tfidf,X_test_essay_count_standardized,X_test_title_count_standardized\n",
    "            )).toarray()\n",
    "\n",
    "\n",
    "X_cv_tfidf = hstack((X_cv_clean_categories, X_cv_clean_sub_categories,X_cv_skl_state,X_cv_teacher_prefix,\n",
    "            X_cv_project_grade_category,X_cv_price_standardized,X_cv_quantity_standardized,X_cv_prev_proj,\n",
    "            X_cv_essay_tfidf,X_cv_cleaned_title_tfidf,X_cv_essay_count_standardized,X_cv_title_count_standardized\n",
    "            )).toarray()\n",
    "\n",
    "\n",
    "print(X_train_tfidf.shape)\n",
    "print(X_test_tfidf.shape)\n",
    "print(X_cv_tfidf.shape)\n"
   ]
  },
  {
   "cell_type": "code",
   "execution_count": null,
   "metadata": {},
   "outputs": [],
   "source": [
    "# with the same hstack function we are concatinating a sparse matrix and a dense matirx :)\n",
    "X_train_w2v = hstack((X_train_clean_categories, X_train_clean_sub_categories,X_train_skl_state,X_train_teacher_prefix,\n",
    "            X_train_project_grade_category,X_train_price_standardized,X_train_quantity_standardized,X_train_prev_proj,\n",
    "            X_train_essay_w2v,X_train_cleaned_title_w2v,X_train_essay_count_standardized,X_train_title_count_standardized\n",
    "            )).toarray()\n",
    "\n",
    "\n",
    "X_test_w2v = hstack((X_test_clean_categories, X_test_clean_sub_categories,X_test_skl_state,X_test_teacher_prefix,\n",
    "            X_test_project_grade_category,X_test_price_standardized,X_test_quantity_standardized,X_test_prev_proj,\n",
    "            X_test_essay_w2v,X_test_cleaned_title_w2v,X_test_essay_count_standardized,X_test_title_count_standardized\n",
    "            )).toarray()\n",
    "\n",
    "\n",
    "X_cv_w2v = hstack((X_cv_clean_categories, X_cv_clean_sub_categories,X_cv_skl_state,X_cv_teacher_prefix,\n",
    "            X_cv_project_grade_category,X_cv_price_standardized,X_cv_quantity_standardized,X_cv_prev_proj,\n",
    "            X_cv_essay_w2v,X_cv_cleaned_title_w2v,X_cv_essay_count_standardized,X_cv_title_count_standardized\n",
    "            )).toarray()\n",
    "\n",
    "\n",
    "print(X_train_w2v.shape)\n",
    "print(X_test_w2v.shape)\n",
    "print(X_cv_w2v.shape)\n"
   ]
  },
  {
   "cell_type": "code",
   "execution_count": null,
   "metadata": {
    "scrolled": true
   },
   "outputs": [],
   "source": [
    "# with the same hstack function we are concatinating a sparse matrix and a dense matirx :)\n",
    "X_train_tfidf_w2v = hstack((X_train_clean_categories, X_train_clean_sub_categories,X_train_skl_state,X_train_teacher_prefix,\n",
    "            X_train_project_grade_category,X_train_price_standardized,X_train_quantity_standardized,X_train_prev_proj,\n",
    "            X_train_essay_tfidf_w2v,X_train_cleaned_title_tfidf_w2v,X_train_essay_count_standardized,X_train_title_count_standardized\n",
    "            )).toarray()\n",
    "\n",
    "\n",
    "X_test_tfidf_w2v = hstack((X_test_clean_categories, X_test_clean_sub_categories,X_test_skl_state,X_test_teacher_prefix,\n",
    "            X_test_project_grade_category,X_test_price_standardized,X_test_quantity_standardized,X_test_prev_proj,\n",
    "            X_test_essay_tfidf_w2v,X_test_cleaned_title_tfidf_w2v,X_test_essay_count_standardized,X_test_title_count_standardized\n",
    "            )).toarray()\n",
    "\n",
    "\n",
    "X_cv_tfidf_w2v = hstack((X_cv_clean_categories, X_cv_clean_sub_categories,X_cv_skl_state,X_cv_teacher_prefix,\n",
    "            X_cv_project_grade_category,X_cv_price_standardized,X_cv_quantity_standardized,X_cv_prev_proj,\n",
    "            X_cv_essay_tfidf_w2v,X_cv_cleaned_title_tfidf_w2v,X_cv_essay_count_standardized,X_cv_title_count_standardized\n",
    "            )).toarray()\n",
    "\n",
    "\n",
    "print(X_train_tfidf_w2v.shape)\n",
    "print(X_test_tfidf_w2v.shape)\n",
    "print(X_cv_tfidf_w2v.shape)\n"
   ]
  },
  {
   "cell_type": "code",
   "execution_count": null,
   "metadata": {},
   "outputs": [],
   "source": [
    "print(X_train_bow.shape)\n",
    "print(X_cv_bow.shape)\n",
    "print(X_test_bow.shape)\n",
    "\n",
    "print('='*50)\n",
    "print(X_train_tfidf.shape)\n",
    "print(X_cv_tfidf.shape)\n",
    "print(X_test_tfidf.shape)\n",
    "\n",
    "print('='*50)\n",
    "print(X_train_w2v.shape)\n",
    "print(X_cv_w2v.shape)\n",
    "print(X_test_w2v.shape)\n",
    "\n",
    "print('='*50)\n",
    "print(X_train_tfidf_w2v.shape)\n",
    "print(X_cv_tfidf_w2v.shape)\n",
    "print(X_test_tfidf_w2v.shape)\n",
    "\n",
    "\n",
    "print('='*50)\n",
    "print(y_train.shape)\n",
    "print(y_test.shape)\n",
    "print(y_cv.shape)\n"
   ]
  },
  {
   "cell_type": "markdown",
   "metadata": {
    "colab_type": "text",
    "id": "EDbdwrJ7oUH1"
   },
   "source": [
    "# Assignment 7: SVM"
   ]
  },
  {
   "cell_type": "markdown",
   "metadata": {
    "colab_type": "text",
    "id": "sKc9KmNQoUH2"
   },
   "source": [
    "<ol>\n",
    "    <li><strong>[Task-1] Apply Support Vector Machines(SGDClassifier with hinge loss: Linear SVM) on these feature sets</strong>\n",
    "        <ul>\n",
    "            <li><font color='red'>Set 1</font>: categorical, numerical features + project_title(BOW) + preprocessed_eassay (BOW)</li>\n",
    "            <li><font color='red'>Set 2</font>: categorical, numerical features + project_title(TFIDF)+  preprocessed_eassay (TFIDF)</li>\n",
    "            <li><font color='red'>Set 3</font>: categorical, numerical features + project_title(AVG W2V)+  preprocessed_eassay (AVG W2V)</li>\n",
    "            <li><font color='red'>Set 4</font>: categorical, numerical features + project_title(TFIDF W2V)+  preprocessed_eassay (TFIDF W2V)</li>        </ul>\n",
    "    </li>\n",
    "    <br>\n",
    "    <li><strong>The hyper paramter tuning (best alpha in range [10^-4 to 10^4], and the best penalty among 'l1', 'l2')</strong>\n",
    "        <ul>\n",
    "    <li>Find the best hyper parameter which will give the maximum <a href='https://www.appliedaicourse.com/course/applied-ai-course-online/lessons/receiver-operating-characteristic-curve-roc-curve-and-auc-1/'>AUC</a> value</li>\n",
    "    <li>Find the best hyper paramter using k-fold cross validation or simple cross validation data</li>\n",
    "    <li>Use gridsearch cv or randomsearch cv or you can also write your own for loops to do this task of hyperparameter tuning\n",
    "        </ul>\n",
    "            </li>\n",
    "    <br>\n",
    "    <li><strong>Representation of results</strong>\n",
    "        <ul>\n",
    "    <li>You need to plot the performance of model both on train data and cross validation data for each hyper parameter, like shown in the figure.\n",
    "    <img src='train_cv_auc.JPG' width=300px></li>\n",
    "    <li>Once after you found the best hyper parameter, you need to train your model with it, and find the AUC on test data and plot the ROC curve on both train and test.\n",
    "    <img src='train_test_auc.JPG' width=300px></li>\n",
    "    <li>Along with plotting ROC curve, you need to print the <a href='https://www.appliedaicourse.com/course/applied-ai-course-online/lessons/confusion-matrix-tpr-fpr-fnr-tnr-1/'>confusion matrix</a> with predicted and original labels of test data points. Please visualize your confusion matrices using <a href='https://seaborn.pydata.org/generated/seaborn.heatmap.html'>seaborn heatmaps.\n",
    "    <img src='confusion_matrix.png' width=300px></li>\n",
    "        </ul>\n",
    "    </li>\n",
    "    <br>\n",
    "    <li><strong>[Task-2] Apply the Support Vector Machines on these features by finding the best hyper paramter as suggested in step 2 and step 3</strong>\n",
    "        <ul>\n",
    "    <li> Consider these set of features <font color='red'> Set 5 :</font>\n",
    "            <ul>\n",
    "                <li><strong>school_state</strong> : categorical data</li>\n",
    "                <li><strong>clean_categories</strong> : categorical data</li>\n",
    "                <li><strong>clean_subcategories</strong> : categorical data</li>\n",
    "                <li><strong>project_grade_category</strong> :categorical data</li>\n",
    "                <li><strong>teacher_prefix</strong> : categorical data</li>\n",
    "                <li><strong>quantity</strong> : numerical data</li>\n",
    "                <li><strong>teacher_number_of_previously_posted_projects</strong> : numerical data</li>\n",
    "                <li><strong>price</strong> : numerical data</li>\n",
    "                <li><strong>sentiment score's of each of the essay</strong> : numerical data</li>\n",
    "                <li><strong>number of words in the title</strong> : numerical data</li>\n",
    "                <li><strong>number of words in the combine essays</strong> : numerical data</li>\n",
    "                <li><strong>Apply <a href='http://scikit-learn.org/stable/modules/generated/sklearn.decomposition.TruncatedSVD.html'>TruncatedSVD</a> on <a href='https://scikit-learn.org/stable/modules/generated/sklearn.feature_extraction.text.TfidfVectorizer.html'>TfidfVectorizer</a> of essay text, choose the number of components (`n_components`) using <a href='https://www.appliedaicourse.com/course/applied-ai-course-online/lessons/pca-code-example-using-non-visualization/'>elbow method</a></strong> : numerical data</li>\n",
    "            </ul>\n",
    "         <br>\n",
    "    </li>\n",
    "    <br>\n",
    "    <li><strong>Conclusion</strong>\n",
    "        <ul>\n",
    "    <li>You need to summarize the results at the end of the notebook, summarize it in the table format. To print out a table please refer to this prettytable library<a href='http://zetcode.com/python/prettytable/'>  link</a> \n",
    "        <img src='summary.JPG' width=400px>\n",
    "    </li>\n",
    "        </ul>\n",
    "</ol>"
   ]
  },
  {
   "cell_type": "markdown",
   "metadata": {
    "colab_type": "text",
    "id": "zgdnjthToUH2"
   },
   "source": [
    "<h4><font color='red'>Note: Data Leakage</font></h4>\n",
    "\n",
    "1. There will be an issue of data-leakage if you vectorize the entire data and then split it into train/cv/test.\n",
    "2. To avoid the issue of data-leakage, make sure to split your data first and then vectorize it. \n",
    "3. While vectorizing your data, apply the method fit_transform() on you train data, and apply the method transform() on cv/test data.\n",
    "4. For more details please go through this <a href='https://soundcloud.com/applied-ai-course/leakage-bow-and-tfidf'>link.</a>"
   ]
  },
  {
   "cell_type": "markdown",
   "metadata": {
    "colab_type": "text",
    "id": "__AbIboVoUH3"
   },
   "source": [
    "<h1>2. Support Vector Machines </h1>"
   ]
  },
  {
   "cell_type": "markdown",
   "metadata": {},
   "source": [
    "###  Applying Logistic Regression on BOW L1 Regularization,<font color='red'> SET 1</font>"
   ]
  },
  {
   "cell_type": "code",
   "execution_count": null,
   "metadata": {
    "colab": {},
    "colab_type": "code",
    "id": "vc9jEpzzoUH4"
   },
   "outputs": [],
   "source": [
    "#https://scikit-learn.org/stable/modules/generated/sklearn.linear_model.SGDClassifier.html\n",
    "from sklearn.metrics import accuracy_score,roc_auc_score\n",
    "from sklearn.linear_model import SGDClassifier\n",
    "\n",
    "from sklearn.calibration import CalibratedClassifierCV\n",
    "\n",
    "#store the results \n",
    "summary=[]\n",
    "roc_auc_score_cv_bow_dict_l1={}\n",
    "roc_auc_score_train_bow_dict_l1={}\n",
    "\n",
    "alpha=[0.00001,0.0001,0.001,0.01,0.1,1,10,100,1000,10000]\n",
    "for i in tqdm(alpha):\n",
    "    # create instance of model\n",
    "    sgd=SGDClassifier(loss='hinge',penalty='l1', alpha=i,random_state=3)\n",
    "    \n",
    "    # fitting the model on crossvalidation train\n",
    "    sgd.fit(X_train_bow, y_train)\n",
    "\n",
    "    # fit the model to the calibrator\n",
    "    calibrated = CalibratedClassifierCV(base_estimator=sgd,method='sigmoid',cv='prefit')\n",
    "\n",
    "    calibrated.fit(X_train_bow,y_train)\n",
    "\n",
    "    # predict the response on the crossvalidation train\n",
    "    pred_bow_cv = calibrated.predict_proba(X_cv_bow)\n",
    "    \n",
    "    \n",
    "    #evaluate CV roc_auc\n",
    "    roc_auc_cv =roc_auc_score(y_cv,pred_bow_cv[:,1])\n",
    "    \n",
    "    #insert into dict\n",
    "    roc_auc_score_cv_bow_dict_l1[i]=roc_auc_cv\n",
    "    \n",
    "    \n",
    "    # predict the response on the train\n",
    "    pred_bow_train = calibrated.predict_proba(X_train_bow)\n",
    "    \n",
    "    #evaluate train roc_auc\n",
    "    roc_auc_train =roc_auc_score(y_train,pred_bow_train[:,1])\n",
    "    \n",
    "    #insert into dict\n",
    "    roc_auc_score_train_bow_dict_l1[i]=roc_auc_train\n",
    "    \n",
    "    \n",
    "    \n",
    "print(roc_auc_score_cv_bow_dict_l1)\n",
    "print(roc_auc_score_train_bow_dict_l1)\n",
    "\n",
    "\n"
   ]
  },
  {
   "cell_type": "markdown",
   "metadata": {},
   "source": [
    "### Plot ROC_AUC_score VS different alpha values (Train and CV set)"
   ]
  },
  {
   "cell_type": "code",
   "execution_count": null,
   "metadata": {},
   "outputs": [],
   "source": [
    "#https://stackoverflow.com/questions/37266341/plotting-a-python-dict-in-order-of-key-values/37266356\n",
    "import math\n",
    "\n",
    "lists1 = sorted(roc_auc_score_cv_bow_dict_l1.items())\n",
    "x1, y1 = zip(*lists1) # unpack a list of pairs into two tuples\n",
    "lists2 = sorted(roc_auc_score_train_bow_dict_l1.items())\n",
    "x2, y2 = zip(*lists2) # unpack a list of pairs into two tuples\n",
    "plt.xlabel('alpha')\n",
    "plt.ylabel('auc_score')\n",
    "plt.title('Hyper parameter tuning')\n",
    "plt.plot(x1, y1,label=\"CV\")\n",
    "plt.plot(x2, y2,label='Train')\n",
    "plt.legend()\n",
    "plt.show()\n",
    "\n",
    "x1=[math.log(i) for i in list(x1)]\n",
    "x2=[math.log(i) for i in list(x2)]\n",
    "plt.xlabel('log(alpha)')\n",
    "plt.ylabel('auc_score')\n",
    "plt.title('Hyper parameter tuning')\n",
    "plt.plot(x1, y1,label=\"CV\")\n",
    "plt.plot(x2, y2,label='Train')\n",
    "plt.legend()\n",
    "plt.show()"
   ]
  },
  {
   "cell_type": "markdown",
   "metadata": {},
   "source": [
    "###  Find best alpha"
   ]
  },
  {
   "cell_type": "code",
   "execution_count": null,
   "metadata": {},
   "outputs": [],
   "source": [
    "#https://stackoverflow.com/questions/268272/getting-key-with-maximum-value-in-dictionary\n",
    "def find_highest_alpha(k_dict):\n",
    "    k=max(k_dict, key=k_dict.get)\n",
    "    return k \n"
   ]
  },
  {
   "cell_type": "code",
   "execution_count": null,
   "metadata": {},
   "outputs": [],
   "source": [
    "print(find_highest_alpha(roc_auc_score_cv_bow_dict_l1))"
   ]
  },
  {
   "cell_type": "markdown",
   "metadata": {},
   "source": [
    "#### Train the model on the optimal alpha value and run the Test Dataset"
   ]
  },
  {
   "cell_type": "code",
   "execution_count": null,
   "metadata": {},
   "outputs": [],
   "source": [
    "\n",
    "# train model on the best alpha\n",
    "sgd = SGDClassifier(loss='hinge',penalty='l1',alpha=find_highest_alpha(roc_auc_score_cv_bow_dict_l1),random_state=3)\n",
    "\n",
    "# fitting the model on crossvalidation train\n",
    "sgd.fit(X_train_bow, y_train)\n",
    "\n",
    "# fit the model to the calibrator\n",
    "calibrated = CalibratedClassifierCV(base_estimator=sgd,method='sigmoid',cv='prefit')\n",
    "\n",
    "calibrated.fit(X_train_bow,y_train)\n",
    "\n",
    "# predict the response on the crossvalidation train\n",
    "pred_bow_test = calibrated.predict(X_test_bow)\n",
    "pred_bow_train = calibrated.predict(X_train_bow)\n",
    "\n",
    "#https://stackoverflow.com/questions/52910061/implementing-roc-curves-for-k-nn-machine-learning-algorithm-using-python-and-scip_scores = knn.predict_proba(X_test)\n",
    "pred_bow_test_scores=calibrated.predict_proba(X_test_bow)\n",
    "pred_bow_train_scores=calibrated.predict_proba(X_train_bow)\n",
    "\n",
    "fpr_test, tpr_test, threshold_test = roc_curve(y_test, pred_bow_test_scores[:, 1])\n",
    "fpr_train, tpr_train, threshold_train = roc_curve(y_train, pred_bow_train_scores[:, 1])\n",
    "roc_auc_test = auc(fpr_test, tpr_test)\n",
    "roc_auc_train = auc(fpr_train, tpr_train)\n",
    "plt.title('Receiver Operating Characteristic')\n",
    "plt.plot(fpr_test, tpr_test, 'r', label = 'AUC_test = %0.2f' % roc_auc_test)\n",
    "plt.plot(fpr_train, tpr_train, 'b', label = 'AUC_train = %0.2f' % roc_auc_train)\n",
    "plt.legend(loc = 'lower right')\n",
    "plt.plot([0, 1], [0, 1],'g--')\n",
    "plt.xlim([0, 1])\n",
    "plt.ylim([0, 1])\n",
    "plt.ylabel('True Positive Rate')\n",
    "plt.xlabel('False Positive Rate')\n",
    "plt.title('ROC Curve of BOW-LR')\n",
    "plt.show()"
   ]
  },
  {
   "cell_type": "markdown",
   "metadata": {},
   "source": [
    "### Get the confusion matrix for the BOW_l1"
   ]
  },
  {
   "cell_type": "code",
   "execution_count": null,
   "metadata": {},
   "outputs": [],
   "source": [
    "#https://scikit-learn.org/stable/modules/generated/sklearn.metrics.confusion_matrix.html\n",
    "from sklearn.metrics import confusion_matrix\n",
    "print(\"Training CM for BOW\")\n",
    "cm =confusion_matrix(y_train, pred_bow_train, labels=None, sample_weight=None)\n",
    "sns.heatmap(cm, annot=True,fmt=\"d\")\n",
    "plt.title('SVM Linear Kernel \\nAccuracy:{0:.3f}'.format(accuracy_score(y_train, pred_bow_train)))\n",
    "plt.show()\n",
    "print(\"=\"*50)\n",
    "print(\"Testing CM for BOW\")\n",
    "cm =confusion_matrix(y_test, pred_bow_test, labels=None, sample_weight=None)\n",
    "summary.append(['BoW_l1',find_highest_alpha(roc_auc_score_cv_bow_dict_l1),roc_auc_test])\n",
    "sns.heatmap(cm, annot=True,fmt=\"d\")\n",
    "plt.title('SVM Linear Kernel \\nAccuracy:{0:.3f}'.format(accuracy_score(y_test, pred_bow_test)))\n",
    "plt.show()\n",
    "\n"
   ]
  },
  {
   "cell_type": "markdown",
   "metadata": {},
   "source": [
    "###  Applying Logistic Regression on TFIDF L1 Regularization,<font color='red'> SET 2</font>"
   ]
  },
  {
   "cell_type": "code",
   "execution_count": null,
   "metadata": {},
   "outputs": [],
   "source": [
    "roc_auc_score_cv_tfidf_dict_l1={}\n",
    "roc_auc_score_train_tfidf_dict_l1={}\n",
    "\n",
    "alpha=[0.00001,0.0001,0.001,0.01,0.1,1,10,100,1000,10000]\n",
    "for i in tqdm(alpha):\n",
    "    # create instance of model\n",
    "    sgd=SGDClassifier(loss='hinge',penalty='l1', alpha=i,random_state=3)\n",
    "    \n",
    "    # fitting the model on crossvalidation train\n",
    "    sgd.fit(X_train_tfidf, y_train)\n",
    "\n",
    "    # fit the model to the calibrator\n",
    "    calibrated = CalibratedClassifierCV(base_estimator=sgd,method='sigmoid',cv='prefit')\n",
    "\n",
    "    calibrated.fit(X_train_tfidf,y_train)\n",
    "\n",
    "    # predict the response on the crossvalidation train\n",
    "    pred_tfidf_cv = calibrated.predict_proba(X_cv_tfidf)\n",
    "    \n",
    "    \n",
    "    #evaluate CV roc_auc\n",
    "    roc_auc_cv =roc_auc_score(y_cv,pred_tfidf_cv[:,1])\n",
    "    \n",
    "    #insert into dict\n",
    "    roc_auc_score_cv_tfidf_dict_l1[i]=roc_auc_cv\n",
    "    \n",
    "    \n",
    "    # predict the response on the train\n",
    "    pred_tfidf_train = calibrated.predict_proba(X_train_tfidf)\n",
    "    \n",
    "    #evaluate train roc_auc\n",
    "    roc_auc_train =roc_auc_score(y_train,pred_tfidf_train[:,1])\n",
    "    \n",
    "    #insert into dict\n",
    "    roc_auc_score_train_tfidf_dict_l1[i]=roc_auc_train\n",
    "    \n",
    "    \n",
    "    \n",
    "print(roc_auc_score_cv_tfidf_dict_l1)\n",
    "print(roc_auc_score_train_tfidf_dict_l1)\n",
    "\n"
   ]
  },
  {
   "cell_type": "markdown",
   "metadata": {},
   "source": [
    "### Plot ROC_AUC_score VS different alpha values (Train and CV set)"
   ]
  },
  {
   "cell_type": "code",
   "execution_count": null,
   "metadata": {},
   "outputs": [],
   "source": [
    "#https://stackoverflow.com/questions/37266341/plotting-a-python-dict-in-order-of-key-values/37266356\n",
    "import math\n",
    "\n",
    "lists1 = sorted(roc_auc_score_cv_tfidf_dict_l1.items())\n",
    "x1, y1 = zip(*lists1) # unpack a list of pairs into two tuples\n",
    "lists2 = sorted(roc_auc_score_train_tfidf_dict_l1.items())\n",
    "x2, y2 = zip(*lists2) # unpack a list of pairs into two tuples\n",
    "plt.xlabel('alpha')\n",
    "plt.ylabel('auc_score')\n",
    "plt.title('Hyper parameter tuning')\n",
    "plt.plot(x1, y1,label=\"CV\")\n",
    "plt.plot(x2, y2,label='Train')\n",
    "plt.legend()\n",
    "plt.show()\n",
    "\n",
    "x1=[math.log(i) for i in list(x1)]\n",
    "x2=[math.log(i) for i in list(x2)]\n",
    "plt.xlabel('log(alpha)')\n",
    "plt.ylabel('auc_score')\n",
    "plt.title('Hyper parameter tuning')\n",
    "plt.plot(x1, y1,label=\"CV\")\n",
    "plt.plot(x2, y2,label='Train')\n",
    "plt.legend()\n",
    "plt.show()\n"
   ]
  },
  {
   "cell_type": "markdown",
   "metadata": {},
   "source": [
    "###  Find best alpha"
   ]
  },
  {
   "cell_type": "code",
   "execution_count": null,
   "metadata": {},
   "outputs": [],
   "source": [
    "print(find_highest_alpha(roc_auc_score_cv_tfidf_dict_l1))"
   ]
  },
  {
   "cell_type": "markdown",
   "metadata": {},
   "source": [
    "#### Train the model on the optimal alpha value and run the Test Dataset\n",
    " "
   ]
  },
  {
   "cell_type": "code",
   "execution_count": null,
   "metadata": {},
   "outputs": [],
   "source": [
    "# train model on the best alpha\n",
    "sgd = SGDClassifier(loss='hinge',penalty='l1',alpha=find_highest_alpha(roc_auc_score_cv_tfidf_dict_l1),random_state=3)\n",
    "\n",
    "# fitting the model on crossvalidation train\n",
    "sgd.fit(X_train_tfidf, y_train)\n",
    "\n",
    "# fit the model to the calibrator\n",
    "calibrated = CalibratedClassifierCV(base_estimator=sgd,method='sigmoid',cv='prefit')\n",
    "\n",
    "calibrated.fit(X_train_tfidf,y_train)\n",
    "\n",
    "# predict the response on the crossvalidation train\n",
    "pred_tfidf_test = calibrated.predict(X_test_tfidf)\n",
    "pred_tfidf_train = calibrated.predict(X_train_tfidf)\n",
    "\n",
    "#https://stackoverflow.com/questions/52910061/implementing-roc-curves-for-k-nn-machine-learning-algorithm-using-python-and-scip_scores = knn.predict_proba(X_test)\n",
    "pred_tfidf_test_scores=calibrated.predict_proba(X_test_tfidf)\n",
    "pred_tfidf_train_scores=calibrated.predict_proba(X_train_tfidf)\n",
    "\n",
    "fpr_test, tpr_test, threshold_test = roc_curve(y_test, pred_tfidf_test_scores[:, 1])\n",
    "fpr_train, tpr_train, threshold_train = roc_curve(y_train, pred_tfidf_train_scores[:, 1])\n",
    "roc_auc_test = auc(fpr_test, tpr_test)\n",
    "roc_auc_train = auc(fpr_train, tpr_train)\n",
    "plt.title('Receiver Operating Characteristic')\n",
    "plt.plot(fpr_test, tpr_test, 'r', label = 'AUC_test = %0.2f' % roc_auc_test)\n",
    "plt.plot(fpr_train, tpr_train, 'b', label = 'AUC_train = %0.2f' % roc_auc_train)\n",
    "plt.legend(loc = 'lower right')\n",
    "plt.plot([0, 1], [0, 1],'g--')\n",
    "plt.xlim([0, 1])\n",
    "plt.ylim([0, 1])\n",
    "plt.ylabel('True Positive Rate')\n",
    "plt.xlabel('False Positive Rate')\n",
    "plt.title('ROC Curve of TFIDF-LR')\n",
    "plt.show()\n"
   ]
  },
  {
   "cell_type": "markdown",
   "metadata": {},
   "source": [
    "### Get the confusion matrix for the TFIDF_l1"
   ]
  },
  {
   "cell_type": "code",
   "execution_count": null,
   "metadata": {},
   "outputs": [],
   "source": [
    "#https://scikit-learn.org/stable/modules/generated/sklearn.metrics.confusion_matrix.html\n",
    "from sklearn.metrics import confusion_matrix\n",
    "print(\"Training CM for TFIDF\")\n",
    "cm =confusion_matrix(y_train, pred_tfidf_train, labels=None, sample_weight=None)\n",
    "sns.heatmap(cm, annot=True,fmt=\"d\")\n",
    "plt.title('SVM Linear Kernel \\nAccuracy:{0:.3f}'.format(accuracy_score(y_train, pred_tfidf_train)))\n",
    "plt.show()\n",
    "print(\"=\"*50)\n",
    "print(\"Testing CM for TFIDF\")\n",
    "cm =confusion_matrix(y_test, pred_tfidf_test, labels=None, sample_weight=None)\n",
    "\n",
    "summary.append(['Tfidf_l1',find_highest_alpha(roc_auc_score_cv_tfidf_dict_l1),roc_auc_test])\n",
    "sns.heatmap(cm, annot=True,fmt=\"d\")\n",
    "plt.title('SVM Linear Kernel \\nAccuracy:{0:.3f}'.format(accuracy_score(y_test, pred_tfidf_test)))\n",
    "plt.show()\n",
    "\n"
   ]
  },
  {
   "cell_type": "markdown",
   "metadata": {},
   "source": [
    "###  Applying Logistic Regression on W2V L1 Regularization,<font color='red'> SET 3</font>"
   ]
  },
  {
   "cell_type": "code",
   "execution_count": null,
   "metadata": {},
   "outputs": [],
   "source": [
    "roc_auc_score_cv_w2v_dict_l1={}\n",
    "roc_auc_score_train_w2v_dict_l1={}\n",
    "\n",
    "alpha=[0.00001,0.0001,0.001,0.01,0.1,1,10,100,1000,10000]\n",
    "for i in tqdm(alpha):\n",
    "    # create instance of model\n",
    "    sgd=SGDClassifier(loss='hinge',penalty='l1', alpha=i,random_state=1)\n",
    "    \n",
    "    # fitting the model on crossvalidation train\n",
    "    sgd.fit(X_train_w2v, y_train)\n",
    "\n",
    "    # fit the model to the calibrator\n",
    "    calibrated = CalibratedClassifierCV(base_estimator=sgd,method='sigmoid',cv='prefit')\n",
    "\n",
    "    calibrated.fit(X_train_w2v,y_train)\n",
    "\n",
    "    # predict the response on the crossvalidation train\n",
    "    pred_w2v_cv = calibrated.predict_proba(X_cv_w2v)\n",
    "    \n",
    "    \n",
    "    #evaluate CV roc_auc\n",
    "    roc_auc_cv =roc_auc_score(y_cv,pred_w2v_cv[:,1])\n",
    "    \n",
    "    #insert into dict\n",
    "    roc_auc_score_cv_w2v_dict_l1[i]=roc_auc_cv\n",
    "    \n",
    "    \n",
    "    # predict the response on the train\n",
    "    pred_w2v_train = calibrated.predict_proba(X_train_w2v)\n",
    "    \n",
    "    #evaluate train roc_auc\n",
    "    roc_auc_train =roc_auc_score(y_train,pred_w2v_train[:,1])\n",
    "    \n",
    "    #insert into dict\n",
    "    roc_auc_score_train_w2v_dict_l1[i]=roc_auc_train\n",
    "    \n",
    "    \n",
    "    \n",
    "print(roc_auc_score_cv_w2v_dict_l1)\n",
    "print(roc_auc_score_train_w2v_dict_l1)\n"
   ]
  },
  {
   "cell_type": "markdown",
   "metadata": {},
   "source": [
    "### Plot ROC_AUC_score VS different alpha values (Train and CV set)"
   ]
  },
  {
   "cell_type": "code",
   "execution_count": null,
   "metadata": {},
   "outputs": [],
   "source": [
    "#https://stackoverflow.com/questions/37266341/plotting-a-python-dict-in-order-of-key-values/37266356\n",
    "import math\n",
    "\n",
    "lists1 = sorted(roc_auc_score_cv_w2v_dict_l1.items())\n",
    "x1, y1 = zip(*lists1) # unpack a list of pairs into two tuples\n",
    "lists2 = sorted(roc_auc_score_train_w2v_dict_l1.items())\n",
    "x2, y2 = zip(*lists2) # unpack a list of pairs into two tuples\n",
    "plt.xlabel('alpha')\n",
    "plt.ylabel('auc_score')\n",
    "plt.title('Hyper parameter tuning')\n",
    "plt.plot(x1, y1,label=\"CV\")\n",
    "plt.plot(x2, y2,label='Train')\n",
    "plt.legend()\n",
    "plt.show()\n",
    "\n",
    "x1=[math.log(i) for i in list(x1)]\n",
    "x2=[math.log(i) for i in list(x2)]\n",
    "plt.xlabel('log(alpha)')\n",
    "plt.ylabel('auc_score')\n",
    "plt.title('Hyper parameter tuning')\n",
    "plt.plot(x1, y1,label=\"CV\")\n",
    "plt.plot(x2, y2,label='Train')\n",
    "plt.legend()\n",
    "plt.show()\n"
   ]
  },
  {
   "cell_type": "markdown",
   "metadata": {},
   "source": [
    "###  Find best alpha"
   ]
  },
  {
   "cell_type": "code",
   "execution_count": null,
   "metadata": {},
   "outputs": [],
   "source": [
    "print(find_highest_alpha(roc_auc_score_cv_w2v_dict_l1))"
   ]
  },
  {
   "cell_type": "markdown",
   "metadata": {},
   "source": [
    "#### Train the model on the optimal alpha value and run the Test Dataset\n"
   ]
  },
  {
   "cell_type": "code",
   "execution_count": null,
   "metadata": {},
   "outputs": [],
   "source": [
    "# train model on the best alpha\n",
    "sgd = SGDClassifier(loss='hinge',penalty='l1',alpha=find_highest_alpha(roc_auc_score_cv_w2v_dict_l1),random_state=1)\n",
    "\n",
    "# fitting the model on crossvalidation train\n",
    "sgd.fit(X_train_w2v, y_train)\n",
    "\n",
    "# fit the model to the calibrator\n",
    "calibrated = CalibratedClassifierCV(base_estimator=sgd,method='sigmoid',cv='prefit')\n",
    "\n",
    "calibrated.fit(X_train_w2v,y_train)\n",
    "\n",
    "# predict the response on the crossvalidation train\n",
    "pred_w2v_test = calibrated.predict(X_test_w2v)\n",
    "pred_w2v_train = calibrated.predict(X_train_w2v)\n",
    "\n",
    "#https://stackoverflow.com/questions/52910061/implementing-roc-curves-for-k-nn-machine-learning-algorithm-using-python-and-scip_scores = knn.predict_proba(X_test)\n",
    "pred_w2v_test_scores=calibrated.predict_proba(X_test_w2v)\n",
    "pred_w2v_train_scores=calibrated.predict_proba(X_train_w2v)\n",
    "\n",
    "fpr_test, tpr_test, threshold_test = roc_curve(y_test, pred_w2v_test_scores[:, 1])\n",
    "fpr_train, tpr_train, threshold_train = roc_curve(y_train, pred_w2v_train_scores[:, 1])\n",
    "roc_auc_test = auc(fpr_test, tpr_test)\n",
    "roc_auc_train = auc(fpr_train, tpr_train)\n",
    "plt.title('Receiver Operating Characteristic')\n",
    "plt.plot(fpr_test, tpr_test, 'r', label = 'AUC_test = %0.2f' % roc_auc_test)\n",
    "plt.plot(fpr_train, tpr_train, 'b', label = 'AUC_train = %0.2f' % roc_auc_train)\n",
    "plt.legend(loc = 'lower right')\n",
    "plt.plot([0, 1], [0, 1],'g--')\n",
    "plt.xlim([0, 1])\n",
    "plt.ylim([0, 1])\n",
    "plt.ylabel('True Positive Rate')\n",
    "plt.xlabel('False Positive Rate')\n",
    "plt.title('ROC Curve of W2V-LR')\n",
    "plt.show()\n"
   ]
  },
  {
   "cell_type": "markdown",
   "metadata": {},
   "source": [
    "### Get the confusion matrix for the W2V_l1"
   ]
  },
  {
   "cell_type": "code",
   "execution_count": null,
   "metadata": {},
   "outputs": [],
   "source": [
    "#https://scikit-learn.org/stable/modules/generated/sklearn.metrics.confusion_matrix.html\n",
    "from sklearn.metrics import confusion_matrix\n",
    "print(\"Training CM for W2V\")\n",
    "cm =confusion_matrix(y_train, pred_w2v_train, labels=None, sample_weight=None)\n",
    "sns.heatmap(cm, annot=True,fmt=\"d\")\n",
    "plt.title('SVM Linear Kernel \\nAccuracy:{0:.3f}'.format(accuracy_score(y_train, pred_w2v_train)))\n",
    "plt.show()\n",
    "print(\"=\"*50)\t\n",
    "print(\"Testing CM for W2V\")\n",
    "cm =confusion_matrix(y_test, pred_w2v_test, labels=None, sample_weight=None)\n",
    "summary.append(['W2v_l1',find_highest_alpha(roc_auc_score_cv_w2v_dict_l1),roc_auc_test])\n",
    "sns.heatmap(cm, annot=True,fmt=\"d\")\n",
    "plt.title('SVM Linear Kernel \\nAccuracy:{0:.3f}'.format(accuracy_score(y_test, pred_w2v_test)))\n",
    "plt.show()\n",
    "\n"
   ]
  },
  {
   "cell_type": "markdown",
   "metadata": {},
   "source": [
    "###  Applying Logistic Regression on TFIDF_W2V L1 Regularization,<font color='red'> SET 4</font>"
   ]
  },
  {
   "cell_type": "code",
   "execution_count": null,
   "metadata": {},
   "outputs": [],
   "source": [
    "\n",
    "roc_auc_score_cv_tfidf_w2v_dict_l1={}\n",
    "roc_auc_score_train_tfidf_w2v_dict_l1={}\n",
    "\n",
    "alpha=[0.00001,0.0001,0.001,0.01,0.1,1,10,100,1000,10000]\n",
    "for i in tqdm(alpha):\n",
    "    # create instance of model\n",
    "    sgd=SGDClassifier(loss='hinge',penalty='l1', alpha=i,random_state=1)\n",
    "    \n",
    "    # fitting the model on crossvalidation train\n",
    "    sgd.fit(X_train_tfidf_w2v, y_train)\n",
    "\n",
    "    # fit the model to the calibrator\n",
    "    calibrated = CalibratedClassifierCV(base_estimator=sgd,method='sigmoid',cv='prefit')\n",
    "\n",
    "    calibrated.fit(X_train_tfidf_w2v,y_train)\n",
    "\n",
    "    # predict the response on the crossvalidation train\n",
    "    pred_tfidf_w2v_cv = calibrated.predict_proba(X_cv_tfidf_w2v)\n",
    "    \n",
    "    \n",
    "    #evaluate CV roc_auc\n",
    "    roc_auc_cv =roc_auc_score(y_cv,pred_tfidf_w2v_cv[:,1])\n",
    "    \n",
    "    #insert into dict\n",
    "    roc_auc_score_cv_tfidf_w2v_dict_l1[i]=roc_auc_cv\n",
    "    \n",
    "    \n",
    "    # predict the response on the train\n",
    "    pred_tfidf_w2v_train = calibrated.predict_proba(X_train_tfidf_w2v)\n",
    "    \n",
    "    #evaluate train roc_auc\n",
    "    roc_auc_train =roc_auc_score(y_train,pred_tfidf_w2v_train[:,1])\n",
    "    \n",
    "    #insert into dict\n",
    "    roc_auc_score_train_tfidf_w2v_dict_l1[i]=roc_auc_train\n",
    "    \n",
    "    \n",
    "    \n",
    "print(roc_auc_score_cv_tfidf_w2v_dict_l1)\n",
    "print(roc_auc_score_train_tfidf_w2v_dict_l1)\n"
   ]
  },
  {
   "cell_type": "markdown",
   "metadata": {},
   "source": [
    "### Plot ROC_AUC_score VS different alpha values (Train and CV set)"
   ]
  },
  {
   "cell_type": "code",
   "execution_count": null,
   "metadata": {},
   "outputs": [],
   "source": [
    "#https://stackoverflow.com/questions/37266341/plotting-a-python-dict-in-order-of-key-values/37266356\n",
    "import math\n",
    "\n",
    "lists1 = sorted(roc_auc_score_cv_tfidf_w2v_dict_l1.items())\n",
    "x1, y1 = zip(*lists1) # unpack a list of pairs into two tuples\n",
    "lists2 = sorted(roc_auc_score_train_tfidf_w2v_dict_l1.items())\n",
    "x2, y2 = zip(*lists2) # unpack a list of pairs into two tuples\n",
    "plt.xlabel('alpha')\n",
    "plt.ylabel('auc_score')\n",
    "plt.title('Hyper parameter tuning')\n",
    "plt.plot(x1, y1,label=\"CV\")\n",
    "plt.plot(x2, y2,label='Train')\n",
    "plt.legend()\n",
    "plt.show()\n",
    "\n",
    "x1=[math.log(i) for i in list(x1)]\n",
    "x2=[math.log(i) for i in list(x2)]\n",
    "plt.xlabel('log(alpha)')\n",
    "plt.ylabel('auc_score')\n",
    "plt.title('Hyper parameter tuning')\n",
    "plt.plot(x1, y1,label=\"CV\")\n",
    "plt.plot(x2, y2,label='Train')\n",
    "plt.legend()\n",
    "plt.show()\n"
   ]
  },
  {
   "cell_type": "markdown",
   "metadata": {},
   "source": [
    "###  Find best alpha"
   ]
  },
  {
   "cell_type": "code",
   "execution_count": null,
   "metadata": {},
   "outputs": [],
   "source": [
    "print(find_highest_alpha(roc_auc_score_cv_tfidf_w2v_dict_l1))"
   ]
  },
  {
   "cell_type": "markdown",
   "metadata": {},
   "source": [
    "#### Train the model on the optimal alpha value and run the Test Dataset\n"
   ]
  },
  {
   "cell_type": "code",
   "execution_count": null,
   "metadata": {},
   "outputs": [],
   "source": [
    "# train model on the best alpha\n",
    "sgd = SGDClassifier(loss='hinge',penalty='l1',alpha=find_highest_alpha(roc_auc_score_cv_tfidf_w2v_dict_l1),random_state=1)\n",
    "\n",
    "# fitting the model on crossvalidation train\n",
    "sgd.fit(X_train_tfidf_w2v, y_train)\n",
    "\n",
    "# fit the model to the calibrator\n",
    "calibrated = CalibratedClassifierCV(base_estimator=sgd,method='sigmoid',cv='prefit')\n",
    "\n",
    "calibrated.fit(X_train_tfidf_w2v,y_train)\n",
    "\n",
    "# predict the response on the crossvalidation train\n",
    "pred_tfidf_w2v_test = calibrated.predict(X_test_tfidf_w2v)\n",
    "pred_tfidf_w2v_train = calibrated.predict(X_train_tfidf_w2v)\n",
    "\n",
    "#https://stackoverflow.com/questions/52910061/implementing-roc-curves-for-k-nn-machine-learning-algorithm-using-python-and-scip_scores = knn.predict_proba(X_test)\n",
    "pred_tfidf_w2v_test_scores=calibrated.predict_proba(X_test_tfidf_w2v)\n",
    "pred_tfidf_w2v_train_scores=calibrated.predict_proba(X_train_tfidf_w2v)\n",
    "\n",
    "fpr_test, tpr_test, threshold_test = roc_curve(y_test, pred_tfidf_w2v_test_scores[:, 1])\n",
    "fpr_train, tpr_train, threshold_train = roc_curve(y_train, pred_tfidf_w2v_train_scores[:, 1])\n",
    "roc_auc_test = auc(fpr_test, tpr_test)\n",
    "roc_auc_train = auc(fpr_train, tpr_train)\n",
    "plt.title('Receiver Operating Characteristic')\n",
    "plt.plot(fpr_test, tpr_test, 'r', label = 'AUC_test = %0.2f' % roc_auc_test)\n",
    "plt.plot(fpr_train, tpr_train, 'b', label = 'AUC_train = %0.2f' % roc_auc_train)\n",
    "plt.legend(loc = 'lower right')\n",
    "plt.plot([0, 1], [0, 1],'g--')\n",
    "plt.xlim([0, 1])\n",
    "plt.ylim([0, 1])\n",
    "plt.ylabel('True Positive Rate')\n",
    "plt.xlabel('False Positive Rate')\n",
    "plt.title('ROC Curve of TFIDF_W2V-LR')\n",
    "plt.show()\n"
   ]
  },
  {
   "cell_type": "markdown",
   "metadata": {},
   "source": [
    "### Get the confusion matrix for the TFIDF_W2V_l1"
   ]
  },
  {
   "cell_type": "code",
   "execution_count": null,
   "metadata": {},
   "outputs": [],
   "source": [
    "#https://scikit-learn.org/stable/modules/generated/sklearn.metrics.confusion_matrix.html\n",
    "from sklearn.metrics import confusion_matrix\n",
    "print(\"Training CM for TFIDF_W2V\")\n",
    "cm =confusion_matrix(y_train, pred_tfidf_w2v_train, labels=None, sample_weight=None)\n",
    "sns.heatmap(cm, annot=True,fmt=\"d\")\n",
    "plt.title('SVM Linear Kernel \\nAccuracy:{0:.3f}'.format(accuracy_score(y_train, pred_tfidf_w2v_train)))\n",
    "plt.show()\n",
    "print(\"=\"*50)\t\n",
    "print(\"Testing CM for TFIDF_W2V\")\n",
    "cm =confusion_matrix(y_test, pred_tfidf_w2v_test, labels=None, sample_weight=None)\n",
    "summary.append(['Tfidf_w2v_l1',find_highest_alpha(roc_auc_score_cv_tfidf_w2v_dict_l1),roc_auc_test])\n",
    "sns.heatmap(cm, annot=True,fmt=\"d\")\n",
    "plt.title('SVM Linear Kernel \\nAccuracy:{0:.3f}'.format(accuracy_score(y_test, pred_tfidf_w2v_test)))\n",
    "plt.show()\n",
    "\n"
   ]
  },
  {
   "cell_type": "markdown",
   "metadata": {},
   "source": [
    "### Lets Prepare SET 5"
   ]
  },
  {
   "cell_type": "markdown",
   "metadata": {},
   "source": [
    "### Lets apply TruncatedSVD \n",
    "\n",
    "<li> Consider these set of features <font color='red'> Set 5 :</font>\n",
    "            <ul>\n",
    "                <li><strong>school_state</strong> : categorical data</li>\n",
    "                <li><strong>clean_categories</strong> : categorical data</li>\n",
    "                <li><strong>clean_subcategories</strong> : categorical data</li>\n",
    "                <li><strong>project_grade_category</strong> :categorical data</li>\n",
    "                <li><strong>teacher_prefix</strong> : categorical data</li>\n",
    "                <li><strong>quantity</strong> : numerical data</li>\n",
    "                <li><strong>teacher_number_of_previously_posted_projects</strong> : numerical data</li>\n",
    "                <li><strong>price</strong> : numerical data</li>\n",
    "                <li><strong>sentiment score's of each of the essay</strong> : numerical data</li>\n",
    "                <li><strong>number of words in the title</strong> : numerical data</li>\n",
    "                <li><strong>number of words in the combine essays</strong> : numerical data</li>\n",
    "                <li><strong>Apply <a href='http://scikit-learn.org/stable/modules/generated/sklearn.decomposition.TruncatedSVD.html'>TruncatedSVD</a> on <a href='https://scikit-learn.org/stable/modules/generated/sklearn.feature_extraction.text.TfidfVectorizer.html'>TfidfVectorizer</a> of essay text, choose the number of components (`n_components`) using <a href='https://www.appliedaicourse.com/course/applied-ai-course-online/lessons/pca-code-example-using-non-visualization/'>elbow method</a></strong> : numerical data</li>\n",
    "            </ul>"
   ]
  },
  {
   "cell_type": "code",
   "execution_count": null,
   "metadata": {},
   "outputs": [],
   "source": [
    "from sklearn.feature_extraction.text import TfidfVectorizer\n",
    "vectorizer = TfidfVectorizer(min_df=10, max_features=5000)\n",
    "vectorizer.fit(X_train['essay'])\n",
    "\n",
    "# we use the fitted CountVectorizer to convert the text to vector\n",
    "X_train_essay_tfidf=vectorizer.transform(X_train['essay'].values)\n",
    "X_test_essay_tfidf=vectorizer.transform(X_test['essay'].values)\n",
    "X_cv_essay_tfidf=vectorizer.transform(X_cv['essay'].values)\n",
    "\n",
    "\n",
    "print(\"Shape of matrix after one hot encodig \",X_train_essay_tfidf.shape)"
   ]
  },
  {
   "cell_type": "code",
   "execution_count": null,
   "metadata": {},
   "outputs": [],
   "source": [
    "# initializing the pca\n",
    "from sklearn.decomposition import TruncatedSVD\n",
    "svd = TruncatedSVD()\n",
    "\n",
    "svd.n_components =int(X_train_essay_tfidf.shape[1]-1)\n",
    "#choosing only 50000 Data points to avoid memory error. \n",
    "svd_data = svd.fit_transform(X_train_essay_tfidf[50000:])\n",
    "\n",
    "percentage_var_explained = svd.explained_variance_ / np.sum(svd.explained_variance_)\n",
    "\n",
    "cum_var_explained = np.cumsum(percentage_var_explained)\n",
    "\n",
    "plt.clf()\n",
    "plt.plot(cum_var_explained, linewidth=2)\n",
    "plt.grid()\n",
    "plt.xlabel('n_components')\n",
    "plt.ylabel('Cumulative_explained_variance')\n",
    "plt.show()"
   ]
  },
  {
   "cell_type": "markdown",
   "metadata": {},
   "source": [
    "### 1750 Features have a Cumulative explained variance of 90% + "
   ]
  },
  {
   "cell_type": "code",
   "execution_count": null,
   "metadata": {},
   "outputs": [],
   "source": [
    "svd = TruncatedSVD(n_components= 1750)\n",
    "svd.fit(X_train_essay_tfidf)\n",
    "\n",
    "X_train_svd=svd.transform(X_train_essay_tfidf)\n",
    "X_test_svd=svd.transform(X_test_essay_tfidf)\n",
    "X_cv_svd=svd.transform(X_cv_essay_tfidf)"
   ]
  },
  {
   "cell_type": "code",
   "execution_count": null,
   "metadata": {},
   "outputs": [],
   "source": [
    "print(X_train_svd.shape)\n",
    "print(X_test_svd.shape)\n",
    "print(X_cv_svd.shape)\n"
   ]
  },
  {
   "cell_type": "code",
   "execution_count": null,
   "metadata": {},
   "outputs": [],
   "source": [
    "X_train_essay_sentiment_score=X_train['essay_sentiment_score'][:,np.newaxis]\n",
    "X_test_essay_sentiment_score=X_test['essay_sentiment_score'][:,np.newaxis]\n",
    "X_cv_essay_sentiment_score=X_cv['essay_sentiment_score'][:,np.newaxis]"
   ]
  },
  {
   "cell_type": "code",
   "execution_count": null,
   "metadata": {},
   "outputs": [],
   "source": [
    "X_train_svd = hstack((X_train_clean_categories, X_train_clean_sub_categories,X_train_skl_state,X_train_teacher_prefix,\n",
    "            X_train_project_grade_category,X_train_price_standardized,X_train_quantity_standardized,X_train_prev_proj,\n",
    "            X_train_essay_sentiment_score,X_train_svd,X_train_essay_count_standardized,X_train_title_count_standardized\n",
    "            )).tocsr()\n",
    "\n",
    "\n",
    "X_test_svd = hstack((X_test_clean_categories, X_test_clean_sub_categories,X_test_skl_state,X_test_teacher_prefix,\n",
    "            X_test_project_grade_category,X_test_price_standardized,X_test_quantity_standardized,X_test_prev_proj,\n",
    "            X_test_essay_sentiment_score,X_test_svd,X_test_essay_count_standardized,X_test_title_count_standardized\n",
    "            )).tocsr()\n",
    "\n",
    "\n",
    "X_cv_svd = hstack((X_cv_clean_categories, X_cv_clean_sub_categories,X_cv_skl_state,X_cv_teacher_prefix,\n",
    "            X_cv_project_grade_category,X_cv_price_standardized,X_cv_quantity_standardized,X_cv_prev_proj,\n",
    "            X_cv_essay_sentiment_score,X_cv_svd,X_cv_essay_count_standardized,X_cv_title_count_standardized\n",
    "            )).tocsr()\n",
    "\n",
    "\n",
    "print(X_train_svd.shape)\n",
    "print(X_test_svd.shape)\n",
    "print(X_cv_svd.shape)"
   ]
  },
  {
   "cell_type": "markdown",
   "metadata": {},
   "source": [
    "###  Applying Logistic Regression on SVD L1 Regularization,<font color='red'> SET 5</font>"
   ]
  },
  {
   "cell_type": "code",
   "execution_count": null,
   "metadata": {},
   "outputs": [],
   "source": [
    "\n",
    "#store the results \n",
    "roc_auc_score_cv_svd_dict_l1={}\n",
    "roc_auc_score_train_svd_dict_l1={}\n",
    "\n",
    "alpha=[0.00001,0.0001,0.001,0.01,0.1,1,10,100,1000,10000]\n",
    "for i in tqdm(alpha):\n",
    "    # create instance of model\n",
    "    sgd=SGDClassifier(loss='hinge',penalty='l1', alpha=i,random_state=3)\n",
    "    \n",
    "    # fitting the model on crossvalidation train\n",
    "    sgd.fit(X_train_svd, y_train)\n",
    "\n",
    "    # fit the model to the calibrator\n",
    "    calibrated = CalibratedClassifierCV(base_estimator=sgd,method='sigmoid',cv='prefit')\n",
    "\n",
    "    calibrated.fit(X_train_svd,y_train)\n",
    "\n",
    "    # predict the response on the crossvalidation train\n",
    "    pred_svd_cv = calibrated.predict_proba(X_cv_svd)\n",
    "    \n",
    "    \n",
    "    #evaluate CV roc_auc\n",
    "    roc_auc_cv =roc_auc_score(y_cv,pred_svd_cv[:,1])\n",
    "    \n",
    "    #insert into dict\n",
    "    roc_auc_score_cv_svd_dict_l1[i]=roc_auc_cv\n",
    "    \n",
    "    \n",
    "    # predict the response on the train\n",
    "    pred_svd_train = calibrated.predict_proba(X_train_svd)\n",
    "    \n",
    "    #evaluate train roc_auc\n",
    "    roc_auc_train =roc_auc_score(y_train,pred_svd_train[:,1])\n",
    "    \n",
    "    #insert into dict\n",
    "    roc_auc_score_train_svd_dict_l1[i]=roc_auc_train\n",
    "    \n",
    "    \n",
    "    \n",
    "print(roc_auc_score_cv_svd_dict_l1)\n",
    "print(roc_auc_score_train_svd_dict_l1)\n"
   ]
  },
  {
   "cell_type": "markdown",
   "metadata": {},
   "source": [
    "### Plot ROC_AUC_score VS different alpha values (Train and CV set)"
   ]
  },
  {
   "cell_type": "code",
   "execution_count": null,
   "metadata": {},
   "outputs": [],
   "source": [
    "#https://stackoverflow.com/questions/37266341/plotting-a-python-dict-in-order-of-key-values/37266356\n",
    "import math\n",
    "\n",
    "lists1 = sorted(roc_auc_score_cv_svd_dict_l1.items())\n",
    "x1, y1 = zip(*lists1) # unpack a list of pairs into two tuples\n",
    "lists2 = sorted(roc_auc_score_train_svd_dict_l1.items())\n",
    "x2, y2 = zip(*lists2) # unpack a list of pairs into two tuples\n",
    "plt.xlabel('alpha')\n",
    "plt.ylabel('roc_auc_score')\n",
    "plt.title('Hyper parameter tuning')\n",
    "plt.plot(x1, y1,label=\"CV\")\n",
    "plt.plot(x2, y2,label='Train')\n",
    "plt.legend()\n",
    "plt.show()\n",
    "\n",
    "x1=[math.log(i) for i in list(x1)]\n",
    "x2=[math.log(i) for i in list(x2)]\n",
    "plt.xlabel('log(alpha)')\n",
    "plt.ylabel('roc_auc_score')\n",
    "plt.title('Hyper parameter tuning')\n",
    "plt.plot(x1, y1,label=\"CV\")\n",
    "plt.plot(x2, y2,label='Train')\n",
    "plt.legend()\n",
    "plt.show()\n"
   ]
  },
  {
   "cell_type": "markdown",
   "metadata": {},
   "source": [
    "###  Find best alpha"
   ]
  },
  {
   "cell_type": "code",
   "execution_count": null,
   "metadata": {},
   "outputs": [],
   "source": [
    "print(find_highest_alpha(roc_auc_score_cv_svd_dict_l1))"
   ]
  },
  {
   "cell_type": "markdown",
   "metadata": {},
   "source": [
    "#### Train the model on the optimal alpha value and run the Test Dataset\n"
   ]
  },
  {
   "cell_type": "code",
   "execution_count": null,
   "metadata": {},
   "outputs": [],
   "source": [
    "# train model on the best alpha\n",
    "sgd = SGDClassifier(loss='hinge',penalty='l1',alpha=find_highest_alpha(roc_auc_score_cv_svd_dict_l1),random_state=3)\n",
    "\n",
    "# fitting the model on crossvalidation train\n",
    "sgd.fit(X_train_svd, y_train)\n",
    "\n",
    "# predict the response on the crossvalidation train\n",
    "pred_svd_test = sgd.predict(X_test_svd)\n",
    "pred_svd_train = sgd.predict(X_train_svd)\n",
    "\n",
    "#https://stackoverflow.com/questions/52910061/implementing-roc-curves-for-k-nn-machine-learning-algorithm-using-python-and-scip_scores = knn.predict_proba(X_test)\n",
    "pred_svd_test_scores=sgd.decision_function(X_test_svd)\n",
    "pred_svd_train_scores=sgd.decision_function(X_train_svd)\n",
    "\n",
    "fpr_test, tpr_test, threshold_test = roc_curve(y_test, pred_svd_test_scores)\n",
    "fpr_train, tpr_train, threshold_train = roc_curve(y_train, pred_svd_train_scores)\n",
    "roc_auc_test = auc(fpr_test, tpr_test)\n",
    "roc_auc_train = auc(fpr_train, tpr_train)\n",
    "plt.title('Receiver Operating Characteristic')\n",
    "plt.plot(fpr_test, tpr_test, 'r', label = 'AUC_test = %0.2f' % roc_auc_test)\n",
    "plt.plot(fpr_train, tpr_train, 'b', label = 'AUC_train = %0.2f' % roc_auc_train)\n",
    "plt.legend(loc = 'lower right')\n",
    "plt.plot([0, 1], [0, 1],'g--')\n",
    "plt.xlim([0, 1])\n",
    "plt.ylim([0, 1])\n",
    "plt.ylabel('True Positive Rate')\n",
    "plt.xlabel('False Positive Rate')\n",
    "plt.title('ROC Curve of SVD-LR')\n",
    "plt.show()\n",
    "\n",
    "\n"
   ]
  },
  {
   "cell_type": "markdown",
   "metadata": {},
   "source": [
    "### Get the confusion matrix for the SVD_l1"
   ]
  },
  {
   "cell_type": "code",
   "execution_count": null,
   "metadata": {},
   "outputs": [],
   "source": [
    "#https://scikit-learn.org/stable/modules/generated/sklearn.metrics.confusion_matrix.html\n",
    "from sklearn.metrics import confusion_matrix\n",
    "print(\"Training CM for SVD\")\n",
    "cm =confusion_matrix(y_train, pred_svd_train, labels=None, sample_weight=None)\n",
    "sns.heatmap(cm, annot=True,fmt=\"d\")\n",
    "plt.title('SVM Linear Kernel \\nAccuracy:{0:.3f}'.format(accuracy_score(y_train, pred_svd_train)))\n",
    "plt.show()\n",
    "print(\"=\"*50)\t\n",
    "print(\"Testing CM for SVD\")\n",
    "cm =confusion_matrix(y_test, pred_svd_test, labels=None, sample_weight=None)\n",
    "summary.append(['Svd_l1',find_highest_alpha(roc_auc_score_cv_svd_dict_l1),roc_auc_test])\n",
    "sns.heatmap(cm, annot=True,fmt=\"d\")\n",
    "plt.title('SVM Linear Kernel \\nAccuracy:{0:.3f}'.format(accuracy_score(y_test, pred_svd_test)))\n",
    "plt.show()\n",
    "\n"
   ]
  },
  {
   "cell_type": "markdown",
   "metadata": {},
   "source": [
    "## Conclusions"
   ]
  },
  {
   "cell_type": "code",
   "execution_count": null,
   "metadata": {},
   "outputs": [],
   "source": [
    "# Please compare all your models using Prettytable library\n",
    "from prettytable import PrettyTable\n",
    "\n",
    "x = PrettyTable()\n",
    "x.field_names = [\"Vectorizer\", \"Hyper parameter\", \"AUC\"]\n",
    "\n",
    "for each in summary:\n",
    "    x.add_row(each)\n",
    "\n",
    "print(x)"
   ]
  },
  {
   "cell_type": "code",
   "execution_count": null,
   "metadata": {},
   "outputs": [],
   "source": []
  }
 ],
 "metadata": {
  "colab": {
   "collapsed_sections": [
    "1xr5XNfxoUHJ",
    "k_rW-gxmoUHR",
    "VMvzxx_koUHR",
    "HjDdqenYoUHX",
    "ElMda-g1oUHZ",
    "919fc_i1oUHf"
   ],
   "name": "7_DonorsChoose_SVM.ipynb",
   "provenance": [],
   "version": "0.3.2"
  },
  "kernelspec": {
   "display_name": "Python 3",
   "language": "python",
   "name": "python3"
  },
  "language_info": {
   "codemirror_mode": {
    "name": "ipython",
    "version": 3
   },
   "file_extension": ".py",
   "mimetype": "text/x-python",
   "name": "python",
   "nbconvert_exporter": "python",
   "pygments_lexer": "ipython3",
   "version": "3.6.5"
  }
 },
 "nbformat": 4,
 "nbformat_minor": 1
}
