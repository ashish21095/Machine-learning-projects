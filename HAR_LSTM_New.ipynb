{
 "cells": [
  {
   "cell_type": "code",
   "execution_count": 0,
   "metadata": {
    "colab": {},
    "colab_type": "code",
    "id": "Ge6xzSLfQ2-1"
   },
   "outputs": [],
   "source": [
    "import zipfile"
   ]
  },
  {
   "cell_type": "code",
   "execution_count": 0,
   "metadata": {
    "colab": {},
    "colab_type": "code",
    "id": "bHzNpnLXR8c2"
   },
   "outputs": [],
   "source": [
    "zip_ref = zipfile.ZipFile(\"/content/drive/My Drive/HAR data/HumanActivityRecognition.zip\", 'r')\n",
    "zip_ref.extractall(\"/content/drive/My Drive/HAR data\")\n",
    "zip_ref.close()"
   ]
  },
  {
   "cell_type": "code",
   "execution_count": 0,
   "metadata": {
    "colab": {},
    "colab_type": "code",
    "id": "XqoVzpBzOXct"
   },
   "outputs": [],
   "source": [
    "import pandas as pd\n",
    "import numpy as np"
   ]
  },
  {
   "cell_type": "code",
   "execution_count": 0,
   "metadata": {
    "colab": {},
    "colab_type": "code",
    "id": "NEf3ILr4jT8t"
   },
   "outputs": [],
   "source": [
    "import matplotlib.pyplot as plt\n",
    "import numpy as np\n",
    "import time\n",
    "# https://gist.github.com/greydanus/f6eee59eaf1d90fcb3b534a25362cea4\n",
    "# https://stackoverflow.com/a/14434334\n",
    "# this function is used to update the plots for each epoch and error\n",
    "def plt_dynamic(x, vy, ty, ax, colors=['b']):\n",
    "    ax.plot(x, vy, 'b', label=\"Validation Loss\")\n",
    "    ax.plot(x, ty, 'r', label=\"Train Loss\")\n",
    "    plt.legend()\n",
    "    plt.grid()\n",
    "    fig.canvas.draw()"
   ]
  },
  {
   "cell_type": "code",
   "execution_count": 0,
   "metadata": {
    "colab": {},
    "colab_type": "code",
    "id": "Ske7e-p0OXcz"
   },
   "outputs": [],
   "source": [
    "# Activities are the class labels\n",
    "# It is a 6 class classification\n",
    "ACTIVITIES = {\n",
    "    0: 'WALKING',\n",
    "    1: 'WALKING_UPSTAIRS',\n",
    "    2: 'WALKING_DOWNSTAIRS',\n",
    "    3: 'SITTING',\n",
    "    4: 'STANDING',\n",
    "    5: 'LAYING',\n",
    "}\n",
    "\n",
    "# Utility function to print the confusion matrix\n",
    "def confusion_matrix(Y_true, Y_pred):\n",
    "    Y_true = pd.Series([ACTIVITIES[y] for y in np.argmax(Y_true, axis=1)])\n",
    "    Y_pred = pd.Series([ACTIVITIES[y] for y in np.argmax(Y_pred, axis=1)])\n",
    "\n",
    "    return pd.crosstab(Y_true, Y_pred, rownames=['True'], colnames=['Pred'])"
   ]
  },
  {
   "cell_type": "markdown",
   "metadata": {
    "colab_type": "text",
    "id": "2Q9lKpE_OXc3"
   },
   "source": [
    "### Data"
   ]
  },
  {
   "cell_type": "code",
   "execution_count": 0,
   "metadata": {
    "colab": {},
    "colab_type": "code",
    "id": "USDAnM81OXc4"
   },
   "outputs": [],
   "source": [
    "# Data directory\n",
    "DATADIR = '/content/drive/My Drive/HAR data/HAR/UCI_HAR_Dataset'"
   ]
  },
  {
   "cell_type": "code",
   "execution_count": 0,
   "metadata": {
    "colab": {},
    "colab_type": "code",
    "id": "hzriIl-ROXc7"
   },
   "outputs": [],
   "source": [
    "# Raw data signals\n",
    "# Signals are from Accelerometer and Gyroscope\n",
    "# The signals are in x,y,z directions\n",
    "# Sensor signals are filtered to have only body acceleration\n",
    "# excluding the acceleration due to gravity\n",
    "# Triaxial acceleration from the accelerometer is total acceleration\n",
    "SIGNALS = [\n",
    "    \"body_acc_x\",\n",
    "    \"body_acc_y\",\n",
    "    \"body_acc_z\",\n",
    "    \"body_gyro_x\",\n",
    "    \"body_gyro_y\",\n",
    "    \"body_gyro_z\",\n",
    "    \"total_acc_x\",\n",
    "    \"total_acc_y\",\n",
    "    \"total_acc_z\"\n",
    "]"
   ]
  },
  {
   "cell_type": "code",
   "execution_count": 0,
   "metadata": {
    "colab": {},
    "colab_type": "code",
    "id": "4OFpXsAGOXc_"
   },
   "outputs": [],
   "source": [
    "# Utility function to read the data from csv file\n",
    "def _read_csv(filename):\n",
    "    return pd.read_csv(filename, delim_whitespace=True, header=None)\n",
    "\n",
    "# Utility function to load the load\n",
    "def load_signals(subset):\n",
    "    signals_data = []\n",
    "\n",
    "    for signal in SIGNALS:\n",
    "        filename = f'/content/drive/My Drive/HAR data/HAR/UCI_HAR_Dataset/{subset}/Inertial Signals/{signal}_{subset}.txt'\n",
    "        signals_data.append(\n",
    "            _read_csv(filename).as_matrix()\n",
    "        ) \n",
    "\n",
    "    # Transpose is used to change the dimensionality of the output,\n",
    "    # aggregating the signals by combination of sample/timestep.\n",
    "    # Resultant shape is (7352 train/2947 test samples, 128 timesteps, 9 signals)\n",
    "    return np.transpose(signals_data, (1, 2, 0))"
   ]
  },
  {
   "cell_type": "code",
   "execution_count": 0,
   "metadata": {
    "colab": {},
    "colab_type": "code",
    "id": "6tOwgQw4OXdD"
   },
   "outputs": [],
   "source": [
    "\n",
    "def load_y(subset):\n",
    "    \"\"\"\n",
    "    The objective that we are trying to predict is a integer, from 1 to 6,\n",
    "    that represents a human activity. We return a binary representation of \n",
    "    every sample objective as a 6 bits vector using One Hot Encoding\n",
    "    (https://pandas.pydata.org/pandas-docs/stable/generated/pandas.get_dummies.html)\n",
    "    \"\"\"\n",
    "    filename = f'/content/drive/My Drive/HAR data/HAR/UCI_HAR_Dataset/{subset}/y_{subset}.txt'\n",
    "    y = _read_csv(filename)[0]\n",
    "\n",
    "    return pd.get_dummies(y).as_matrix()"
   ]
  },
  {
   "cell_type": "code",
   "execution_count": 0,
   "metadata": {
    "colab": {},
    "colab_type": "code",
    "id": "hktnq-vDOXdI"
   },
   "outputs": [],
   "source": [
    "def load_data():\n",
    "    \"\"\"\n",
    "    Obtain the dataset from multiple files.\n",
    "    Returns: X_train, X_test, y_train, y_test\n",
    "    \"\"\"\n",
    "    X_train, X_test = load_signals('train'), load_signals('test')\n",
    "    y_train, y_test = load_y('train'), load_y('test')\n",
    "\n",
    "    return X_train, X_test, y_train, y_test"
   ]
  },
  {
   "cell_type": "code",
   "execution_count": 0,
   "metadata": {
    "colab": {},
    "colab_type": "code",
    "id": "RIGVO81KOXdM"
   },
   "outputs": [],
   "source": [
    "# Importing tensorflow\n",
    "np.random.seed(42)\n",
    "import tensorflow as tf\n",
    "tf.set_random_seed(42)"
   ]
  },
  {
   "cell_type": "code",
   "execution_count": 0,
   "metadata": {
    "colab": {},
    "colab_type": "code",
    "id": "v0BlPU6qOXdR"
   },
   "outputs": [],
   "source": [
    "# Configuring a session\n",
    "session_conf = tf.ConfigProto(\n",
    "    intra_op_parallelism_threads=1,\n",
    "    inter_op_parallelism_threads=1\n",
    ")"
   ]
  },
  {
   "cell_type": "code",
   "execution_count": 0,
   "metadata": {
    "colab": {},
    "colab_type": "code",
    "id": "oDLg3WXQOXdX"
   },
   "outputs": [],
   "source": [
    "# Import Keras\n",
    "from keras import backend as K\n",
    "sess = tf.Session(graph=tf.get_default_graph(), config=session_conf)\n",
    "K.set_session(sess)"
   ]
  },
  {
   "cell_type": "code",
   "execution_count": 0,
   "metadata": {
    "colab": {},
    "colab_type": "code",
    "id": "2L54zHJ3OXdd"
   },
   "outputs": [],
   "source": [
    "# Importing libraries\n",
    "from keras.models import Sequential\n",
    "from keras.layers import LSTM\n",
    "from keras.layers.core import Dense, Dropout"
   ]
  },
  {
   "cell_type": "code",
   "execution_count": 0,
   "metadata": {
    "colab": {},
    "colab_type": "code",
    "id": "NSKOiGuROXdg"
   },
   "outputs": [],
   "source": [
    "# Initializing parameters\n",
    "epochs = 30\n",
    "batch_size = 16\n",
    "n_hidden = 32"
   ]
  },
  {
   "cell_type": "code",
   "execution_count": 0,
   "metadata": {
    "colab": {},
    "colab_type": "code",
    "id": "xzZQk4T-OXdk"
   },
   "outputs": [],
   "source": [
    "# Utility function to count the number of classes\n",
    "def _count_classes(y):\n",
    "    return len(set([tuple(category) for category in y]))"
   ]
  },
  {
   "cell_type": "markdown",
   "metadata": {
    "colab_type": "text",
    "id": "IIecmtwSxws1"
   },
   "source": [
    "# Train Test Split"
   ]
  },
  {
   "cell_type": "code",
   "execution_count": 0,
   "metadata": {
    "colab": {
     "base_uri": "https://localhost:8080/",
     "height": 82
    },
    "colab_type": "code",
    "id": "d6v9_RdLOXdo",
    "outputId": "a77cce9f-db00-4fb1-bfcb-b7ca731304d4"
   },
   "outputs": [
    {
     "name": "stderr",
     "output_type": "stream",
     "text": [
      "/usr/local/lib/python3.6/dist-packages/ipykernel_launcher.py:11: FutureWarning: Method .as_matrix will be removed in a future version. Use .values instead.\n",
      "  # This is added back by InteractiveShellApp.init_path()\n",
      "/usr/local/lib/python3.6/dist-packages/ipykernel_launcher.py:12: FutureWarning: Method .as_matrix will be removed in a future version. Use .values instead.\n",
      "  if sys.path[0] == '':\n"
     ]
    }
   ],
   "source": [
    "# Loading the train and test data\n",
    "X_train, X_test, Y_train, Y_test = load_data()"
   ]
  },
  {
   "cell_type": "code",
   "execution_count": 18,
   "metadata": {
    "colab": {
     "base_uri": "https://localhost:8080/",
     "height": 66
    },
    "colab_type": "code",
    "id": "vE3LZdW4OXdt",
    "outputId": "164dd3b9-4e6f-4f9a-9579-a9408bb1d129"
   },
   "outputs": [
    {
     "name": "stdout",
     "output_type": "stream",
     "text": [
      "128\n",
      "9\n",
      "7352\n"
     ]
    }
   ],
   "source": [
    "timesteps = len(X_train[0])\n",
    "input_dim = len(X_train[0][0])\n",
    "n_classes = _count_classes(Y_train)\n",
    "\n",
    "print(timesteps)\n",
    "print(input_dim)\n",
    "print(len(X_train))"
   ]
  },
  {
   "cell_type": "markdown",
   "metadata": {
    "colab_type": "text",
    "id": "S2UWQBB-xna9"
   },
   "source": [
    "# Store into pickle  "
   ]
  },
  {
   "cell_type": "code",
   "execution_count": 0,
   "metadata": {
    "colab": {
     "base_uri": "https://localhost:8080/",
     "height": 50
    },
    "colab_type": "code",
    "id": "R5SdOyEXW9wN",
    "outputId": "921c3ed8-1c46-4bf1-adf4-ef57c6a749af"
   },
   "outputs": [
    {
     "name": "stdout",
     "output_type": "stream",
     "text": [
      "CPU times: user 128 ms, sys: 65 ms, total: 193 ms\n",
      "Wall time: 356 ms\n"
     ]
    }
   ],
   "source": [
    "%%time\n",
    "import pickle   \n",
    "    \n",
    "dbfile_1 = open('/content/drive/My Drive/HAR data/Xtrain', 'ab') \n",
    "dbfile_2 = open('/content/drive/My Drive/HAR data/Xtest', 'ab') \n",
    "dbfile_3 = open('/content/drive/My Drive/HAR data/ytrain', 'ab') \n",
    "dbfile_4 = open('/content/drive/My Drive/HAR data/ytest', 'ab') \n",
    "      \n",
    "# source, destination \n",
    "pickle.dump(X_train, dbfile_1) \n",
    "pickle.dump(X_test, dbfile_2) \n",
    "pickle.dump(Y_train, dbfile_3) \n",
    "pickle.dump(Y_test, dbfile_4) \n",
    "\n",
    "dbfile_1.close()\n",
    "dbfile_2.close()\n",
    "dbfile_3.close()\n",
    "dbfile_4.close()"
   ]
  },
  {
   "cell_type": "code",
   "execution_count": 0,
   "metadata": {
    "colab": {},
    "colab_type": "code",
    "id": "_8FUFVhoaXP3"
   },
   "outputs": [],
   "source": [
    "'''import pickle  \n",
    "dbfile_1 = open('/content/drive/My Drive/HAR data/Xtrain', 'rb')      \n",
    "X_train = pickle.load(dbfile_1) \n",
    "dbfile_1.close()\n",
    "\n",
    "dbfile_2 = open('/content/drive/My Drive/HAR data/Xtest', 'rb')      \n",
    "X_test = pickle.load(dbfile_2) \n",
    "dbfile_2.close()\n",
    "\n",
    "dbfile_3 = open('/content/drive/My Drive/HAR data/ytrain', 'rb')      \n",
    "Y_train = pickle.load(dbfile_3) \n",
    "dbfile_3.close()\n",
    "\n",
    "dbfile_4 = open('/content/drive/My Drive/HAR data/ytest', 'rb')      \n",
    "Y_test = pickle.load(dbfile_4) \n",
    "dbfile_4.close()'''"
   ]
  },
  {
   "cell_type": "markdown",
   "metadata": {
    "colab_type": "text",
    "id": "9XNqlCAEOXdx"
   },
   "source": [
    "# Model 1\n",
    "* Defining the Architecture of LSTM"
   ]
  },
  {
   "cell_type": "code",
   "execution_count": 0,
   "metadata": {
    "colab": {},
    "colab_type": "code",
    "id": "ZxxeGU9zT-G4",
    "outputId": "7903f148-9c52-4bab-f87c-414c024e5536"
   },
   "outputs": [
    {
     "name": "stdout",
     "output_type": "stream",
     "text": [
      "_________________________________________________________________\n",
      "Layer (type)                 Output Shape              Param #   \n",
      "=================================================================\n",
      "lstm_3 (LSTM)                (None, 32)                5376      \n",
      "_________________________________________________________________\n",
      "dropout_3 (Dropout)          (None, 32)                0         \n",
      "_________________________________________________________________\n",
      "dense_3 (Dense)              (None, 6)                 198       \n",
      "=================================================================\n",
      "Total params: 5,574\n",
      "Trainable params: 5,574\n",
      "Non-trainable params: 0\n",
      "_________________________________________________________________\n"
     ]
    }
   ],
   "source": [
    "# Initiliazing the sequential model\n",
    "model = Sequential()\n",
    "# Configuring the parameters\n",
    "model.add(LSTM(n_hidden, input_shape=(timesteps, input_dim)))\n",
    "# Adding a dropout layer\n",
    "model.add(Dropout(0.5))\n",
    "# Adding a dense output layer with sigmoid activation\n",
    "model.add(Dense(n_classes, activation='sigmoid'))\n",
    "model.summary()"
   ]
  },
  {
   "cell_type": "code",
   "execution_count": 0,
   "metadata": {
    "colab": {},
    "colab_type": "code",
    "id": "XluTTzicT-G7"
   },
   "outputs": [],
   "source": [
    "# Compiling the model\n",
    "model.compile(loss='categorical_crossentropy',\n",
    "              optimizer='rmsprop',\n",
    "              metrics=['accuracy'])"
   ]
  },
  {
   "cell_type": "code",
   "execution_count": 0,
   "metadata": {
    "colab": {},
    "colab_type": "code",
    "id": "KX-MJtOQT-G_",
    "outputId": "1075028b-d908-43a9-ff5a-a21a2a36b3f4"
   },
   "outputs": [
    {
     "name": "stdout",
     "output_type": "stream",
     "text": [
      "Train on 7352 samples, validate on 2947 samples\n",
      "Epoch 1/30\n",
      "7352/7352 [==============================] - 92s 13ms/step - loss: 1.3018 - acc: 0.4395 - val_loss: 1.1254 - val_acc: 0.4662\n",
      "Epoch 2/30\n",
      "7352/7352 [==============================] - 94s 13ms/step - loss: 0.9666 - acc: 0.5880 - val_loss: 0.9491 - val_acc: 0.5714\n",
      "Epoch 3/30\n",
      "7352/7352 [==============================] - 97s 13ms/step - loss: 0.7812 - acc: 0.6408 - val_loss: 0.8286 - val_acc: 0.5850\n",
      "Epoch 4/30\n",
      "7352/7352 [==============================] - 95s 13ms/step - loss: 0.6941 - acc: 0.6574 - val_loss: 0.7297 - val_acc: 0.6128\n",
      "Epoch 5/30\n",
      "7352/7352 [==============================] - 92s 13ms/step - loss: 0.6336 - acc: 0.6912 - val_loss: 0.7359 - val_acc: 0.6787\n",
      "Epoch 6/30\n",
      "7352/7352 [==============================] - 94s 13ms/step - loss: 0.5859 - acc: 0.7134 - val_loss: 0.7015 - val_acc: 0.6939\n",
      "Epoch 7/30\n",
      "7352/7352 [==============================] - 95s 13ms/step - loss: 0.5692 - acc: 0.7477 - val_loss: 0.5995 - val_acc: 0.7387\n",
      "Epoch 8/30\n",
      "7352/7352 [==============================] - 96s 13ms/step - loss: 0.4899 - acc: 0.7809 - val_loss: 0.5762 - val_acc: 0.7387\n",
      "Epoch 9/30\n",
      "7352/7352 [==============================] - 90s 12ms/step - loss: 0.4482 - acc: 0.7886 - val_loss: 0.7413 - val_acc: 0.7126\n",
      "Epoch 10/30\n",
      "7352/7352 [==============================] - 90s 12ms/step - loss: 0.4132 - acc: 0.8077 - val_loss: 0.5048 - val_acc: 0.7513\n",
      "Epoch 11/30\n",
      "7352/7352 [==============================] - 89s 12ms/step - loss: 0.3985 - acc: 0.8274 - val_loss: 0.5234 - val_acc: 0.7452\n",
      "Epoch 12/30\n",
      "7352/7352 [==============================] - 91s 12ms/step - loss: 0.3378 - acc: 0.8638 - val_loss: 0.4114 - val_acc: 0.8833\n",
      "Epoch 13/30\n",
      "7352/7352 [==============================] - 91s 12ms/step - loss: 0.2947 - acc: 0.9051 - val_loss: 0.4386 - val_acc: 0.8731\n",
      "Epoch 14/30\n",
      "7352/7352 [==============================] - 90s 12ms/step - loss: 0.2448 - acc: 0.9291 - val_loss: 0.3768 - val_acc: 0.8921\n",
      "Epoch 15/30\n",
      "7352/7352 [==============================] - 91s 12ms/step - loss: 0.2157 - acc: 0.9331 - val_loss: 0.4441 - val_acc: 0.8931\n",
      "Epoch 16/30\n",
      "7352/7352 [==============================] - 90s 12ms/step - loss: 0.2053 - acc: 0.9366 - val_loss: 0.4162 - val_acc: 0.8968\n",
      "Epoch 17/30\n",
      "7352/7352 [==============================] - 89s 12ms/step - loss: 0.2028 - acc: 0.9404 - val_loss: 0.4538 - val_acc: 0.8962\n",
      "Epoch 18/30\n",
      "7352/7352 [==============================] - 93s 13ms/step - loss: 0.1911 - acc: 0.9419 - val_loss: 0.3964 - val_acc: 0.8999\n",
      "Epoch 19/30\n",
      "7352/7352 [==============================] - 96s 13ms/step - loss: 0.1912 - acc: 0.9407 - val_loss: 0.3165 - val_acc: 0.9030\n",
      "Epoch 20/30\n",
      "7352/7352 [==============================] - 96s 13ms/step - loss: 0.1732 - acc: 0.9446 - val_loss: 0.4546 - val_acc: 0.8904\n",
      "Epoch 21/30\n",
      "7352/7352 [==============================] - 94s 13ms/step - loss: 0.1782 - acc: 0.9444 - val_loss: 0.3346 - val_acc: 0.9063\n",
      "Epoch 22/30\n",
      "7352/7352 [==============================] - 95s 13ms/step - loss: 0.1812 - acc: 0.9418 - val_loss: 0.8164 - val_acc: 0.8582\n",
      "Epoch 23/30\n",
      "7352/7352 [==============================] - 95s 13ms/step - loss: 0.1824 - acc: 0.9426 - val_loss: 0.4240 - val_acc: 0.9036\n",
      "Epoch 24/30\n",
      "7352/7352 [==============================] - 94s 13ms/step - loss: 0.1726 - acc: 0.9429 - val_loss: 0.4067 - val_acc: 0.9148\n",
      "Epoch 25/30\n",
      "7352/7352 [==============================] - 96s 13ms/step - loss: 0.1737 - acc: 0.9411 - val_loss: 0.3396 - val_acc: 0.9074\n",
      "Epoch 26/30\n",
      "7352/7352 [==============================] - 96s 13ms/step - loss: 0.1650 - acc: 0.9461 - val_loss: 0.3806 - val_acc: 0.9019\n",
      "Epoch 27/30\n",
      "7352/7352 [==============================] - 89s 12ms/step - loss: 0.1925 - acc: 0.9415 - val_loss: 0.6464 - val_acc: 0.8850\n",
      "Epoch 28/30\n",
      "7352/7352 [==============================] - 91s 12ms/step - loss: 0.1965 - acc: 0.9425 - val_loss: 0.3363 - val_acc: 0.9203\n",
      "Epoch 29/30\n",
      "7352/7352 [==============================] - 92s 12ms/step - loss: 0.1889 - acc: 0.9431 - val_loss: 0.3737 - val_acc: 0.9158\n",
      "Epoch 30/30\n",
      "7352/7352 [==============================] - 95s 13ms/step - loss: 0.1945 - acc: 0.9414 - val_loss: 0.3088 - val_acc: 0.9097\n"
     ]
    },
    {
     "data": {
      "text/plain": [
       "<keras.callbacks.History at 0x29b5ee36a20>"
      ]
     },
     "execution_count": 23,
     "metadata": {
      "tags": []
     },
     "output_type": "execute_result"
    }
   ],
   "source": [
    "# Training the model\n",
    "model.fit(X_train,\n",
    "          Y_train,\n",
    "          batch_size=batch_size,\n",
    "          validation_data=(X_test, Y_test),\n",
    "          epochs=epochs)"
   ]
  },
  {
   "cell_type": "code",
   "execution_count": 0,
   "metadata": {
    "colab": {},
    "colab_type": "code",
    "id": "lEnOT5yJT-HM",
    "outputId": "e1cf302d-6f31-4338-d10c-65f49c15067f"
   },
   "outputs": [
    {
     "name": "stdout",
     "output_type": "stream",
     "text": [
      "Pred                LAYING  SITTING  STANDING  WALKING  WALKING_DOWNSTAIRS  \\\n",
      "True                                                                         \n",
      "LAYING                 512        0        25        0                   0   \n",
      "SITTING                  3      410        75        0                   0   \n",
      "STANDING                 0       87       445        0                   0   \n",
      "WALKING                  0        0         0      481                   2   \n",
      "WALKING_DOWNSTAIRS       0        0         0        0                 382   \n",
      "WALKING_UPSTAIRS         0        0         0        2                  18   \n",
      "\n",
      "Pred                WALKING_UPSTAIRS  \n",
      "True                                  \n",
      "LAYING                             0  \n",
      "SITTING                            3  \n",
      "STANDING                           0  \n",
      "WALKING                           13  \n",
      "WALKING_DOWNSTAIRS                38  \n",
      "WALKING_UPSTAIRS                 451  \n"
     ]
    }
   ],
   "source": [
    "# Confusion Matrix\n",
    "print(confusion_matrix(Y_test, model.predict(X_test)))"
   ]
  },
  {
   "cell_type": "code",
   "execution_count": 0,
   "metadata": {
    "colab": {},
    "colab_type": "code",
    "id": "n9Myb3vYT-HQ",
    "outputId": "1eff7c0b-c94b-4c24-f119-a72cf24cf122"
   },
   "outputs": [
    {
     "name": "stdout",
     "output_type": "stream",
     "text": [
      "2947/2947 [==============================] - 4s 2ms/step\n"
     ]
    }
   ],
   "source": [
    "score = model.evaluate(X_test, Y_test)"
   ]
  },
  {
   "cell_type": "code",
   "execution_count": 0,
   "metadata": {
    "colab": {},
    "colab_type": "code",
    "id": "RQcRwhpcT-HT",
    "outputId": "22c01ece-dfed-49f9-bd33-7cf9b1ad5497"
   },
   "outputs": [
    {
     "data": {
      "text/plain": [
       "[0.3087582236972612, 0.9097387173396675]"
      ]
     },
     "execution_count": 28,
     "metadata": {
      "tags": []
     },
     "output_type": "execute_result"
    }
   ],
   "source": [
    "score"
   ]
  },
  {
   "cell_type": "code",
   "execution_count": 0,
   "metadata": {
    "colab": {},
    "colab_type": "code",
    "id": "iXc9ilrXgkss"
   },
   "outputs": [],
   "source": []
  },
  {
   "cell_type": "markdown",
   "metadata": {
    "colab_type": "text",
    "id": "-e4Dv1Lgxael"
   },
   "source": [
    "# Model 2"
   ]
  },
  {
   "cell_type": "code",
   "execution_count": 30,
   "metadata": {
    "colab": {
     "base_uri": "https://localhost:8080/",
     "height": 261
    },
    "colab_type": "code",
    "id": "Rm9Yj9TFhhy6",
    "outputId": "92ebb1d9-2f53-4c04-9264-4b05f27b6437"
   },
   "outputs": [
    {
     "name": "stdout",
     "output_type": "stream",
     "text": [
      "Model: \"sequential_3\"\n",
      "_________________________________________________________________\n",
      "Layer (type)                 Output Shape              Param #   \n",
      "=================================================================\n",
      "lstm_2 (LSTM)                (None, 32)                5376      \n",
      "_________________________________________________________________\n",
      "dropout_2 (Dropout)          (None, 32)                0         \n",
      "_________________________________________________________________\n",
      "dense_2 (Dense)              (None, 6)                 198       \n",
      "=================================================================\n",
      "Total params: 5,574\n",
      "Trainable params: 5,574\n",
      "Non-trainable params: 0\n",
      "_________________________________________________________________\n",
      "None\n"
     ]
    }
   ],
   "source": [
    "# With One LSTM Layer Model 1  \n",
    "\n",
    "model = Sequential()\n",
    "\n",
    "# 1 LSTM layer\n",
    "model.add(LSTM(n_hidden, input_shape = (timesteps, input_dim))) \n",
    "model.add(Dropout(0.25))\n",
    "model.add(Dense(n_classes, activation = 'relu'))\n",
    "model.compile(loss = 'binary_crossentropy', optimizer = 'adam', metrics = ['accuracy'])\n",
    "print(model.summary())"
   ]
  },
  {
   "cell_type": "code",
   "execution_count": 31,
   "metadata": {
    "colab": {
     "base_uri": "https://localhost:8080/",
     "height": 1000
    },
    "colab_type": "code",
    "id": "GceMI6w9hhzC",
    "outputId": "62242010-4ad4-40e5-afe1-c7072b188da8"
   },
   "outputs": [
    {
     "name": "stdout",
     "output_type": "stream",
     "text": [
      "Train on 7352 samples, validate on 2947 samples\n",
      "Epoch 1/30\n",
      "7352/7352 [==============================] - 10s 1ms/step - loss: 0.6114 - acc: 0.8331 - val_loss: 0.4062 - val_acc: 0.8537\n",
      "Epoch 2/30\n",
      "7352/7352 [==============================] - 9s 1ms/step - loss: 0.3978 - acc: 0.8531 - val_loss: 0.3853 - val_acc: 0.8613\n",
      "Epoch 3/30\n",
      "7352/7352 [==============================] - 9s 1ms/step - loss: 0.3711 - acc: 0.8528 - val_loss: 0.3690 - val_acc: 0.8606\n",
      "Epoch 4/30\n",
      "7352/7352 [==============================] - 9s 1ms/step - loss: 0.3640 - acc: 0.8465 - val_loss: 0.3767 - val_acc: 0.8463\n",
      "Epoch 5/30\n",
      "7352/7352 [==============================] - 9s 1ms/step - loss: 0.3483 - acc: 0.8488 - val_loss: 0.3553 - val_acc: 0.8466\n",
      "Epoch 6/30\n",
      "7352/7352 [==============================] - 10s 1ms/step - loss: 0.3224 - acc: 0.8537 - val_loss: 0.3445 - val_acc: 0.8430\n",
      "Epoch 7/30\n",
      "7352/7352 [==============================] - 10s 1ms/step - loss: 0.3085 - acc: 0.8558 - val_loss: 0.3386 - val_acc: 0.8489\n",
      "Epoch 8/30\n",
      "7352/7352 [==============================] - 10s 1ms/step - loss: 0.3019 - acc: 0.8552 - val_loss: 0.3288 - val_acc: 0.8465\n",
      "Epoch 9/30\n",
      "7352/7352 [==============================] - 10s 1ms/step - loss: 0.3060 - acc: 0.8530 - val_loss: 0.3330 - val_acc: 0.8414\n",
      "Epoch 10/30\n",
      "7352/7352 [==============================] - 9s 1ms/step - loss: 0.2876 - acc: 0.8563 - val_loss: 0.2848 - val_acc: 0.8536\n",
      "Epoch 11/30\n",
      "7352/7352 [==============================] - 9s 1ms/step - loss: 0.2385 - acc: 0.8687 - val_loss: 0.2610 - val_acc: 0.8743\n",
      "Epoch 12/30\n",
      "7352/7352 [==============================] - 10s 1ms/step - loss: 0.2214 - acc: 0.8774 - val_loss: 0.2659 - val_acc: 0.8687\n",
      "Epoch 13/30\n",
      "7352/7352 [==============================] - 10s 1ms/step - loss: 0.2202 - acc: 0.8725 - val_loss: 0.2505 - val_acc: 0.8721\n",
      "Epoch 14/30\n",
      "7352/7352 [==============================] - 10s 1ms/step - loss: 0.2060 - acc: 0.8751 - val_loss: 0.2575 - val_acc: 0.8678\n",
      "Epoch 15/30\n",
      "7352/7352 [==============================] - 10s 1ms/step - loss: 0.2164 - acc: 0.8714 - val_loss: 0.2541 - val_acc: 0.8685\n",
      "Epoch 16/30\n",
      "7352/7352 [==============================] - 10s 1ms/step - loss: 0.2013 - acc: 0.8754 - val_loss: 0.2426 - val_acc: 0.8730\n",
      "Epoch 17/30\n",
      "7352/7352 [==============================] - 10s 1ms/step - loss: 0.4133 - acc: 0.8520 - val_loss: 0.2799 - val_acc: 0.8526\n",
      "Epoch 18/30\n",
      "7352/7352 [==============================] - 10s 1ms/step - loss: 0.2380 - acc: 0.8553 - val_loss: 0.2532 - val_acc: 0.8554\n",
      "Epoch 19/30\n",
      "7352/7352 [==============================] - 10s 1ms/step - loss: 0.2155 - acc: 0.8639 - val_loss: 0.2320 - val_acc: 0.8756\n",
      "Epoch 20/30\n",
      "7352/7352 [==============================] - 10s 1ms/step - loss: 0.2046 - acc: 0.8751 - val_loss: 0.2358 - val_acc: 0.8738\n",
      "Epoch 21/30\n",
      "7352/7352 [==============================] - 10s 1ms/step - loss: 0.1891 - acc: 0.8772 - val_loss: 0.2349 - val_acc: 0.8748\n",
      "Epoch 22/30\n",
      "7352/7352 [==============================] - 10s 1ms/step - loss: 0.2241 - acc: 0.8765 - val_loss: 0.4929 - val_acc: 0.8196\n",
      "Epoch 23/30\n",
      "7352/7352 [==============================] - 10s 1ms/step - loss: 0.4119 - acc: 0.8355 - val_loss: 0.3371 - val_acc: 0.8367\n",
      "Epoch 24/30\n",
      "7352/7352 [==============================] - 9s 1ms/step - loss: 0.2626 - acc: 0.8525 - val_loss: 0.3211 - val_acc: 0.8519\n",
      "Epoch 25/30\n",
      "7352/7352 [==============================] - 10s 1ms/step - loss: 0.2514 - acc: 0.8576 - val_loss: 0.3072 - val_acc: 0.8558\n",
      "Epoch 26/30\n",
      "7352/7352 [==============================] - 9s 1ms/step - loss: 0.2366 - acc: 0.8631 - val_loss: 0.2963 - val_acc: 0.8589\n",
      "Epoch 27/30\n",
      "7352/7352 [==============================] - 10s 1ms/step - loss: 0.2270 - acc: 0.8681 - val_loss: 0.2749 - val_acc: 0.8649\n",
      "Epoch 28/30\n",
      "7352/7352 [==============================] - 10s 1ms/step - loss: 0.2103 - acc: 0.8725 - val_loss: 0.2722 - val_acc: 0.8684\n",
      "Epoch 29/30\n",
      "7352/7352 [==============================] - 10s 1ms/step - loss: 0.2023 - acc: 0.8798 - val_loss: 0.2991 - val_acc: 0.8760\n",
      "Epoch 30/30\n",
      "7352/7352 [==============================] - 10s 1ms/step - loss: 0.2483 - acc: 0.8713 - val_loss: 0.2719 - val_acc: 0.8700\n"
     ]
    }
   ],
   "source": [
    "# Training the model\n",
    "history = model.fit(X_train,\n",
    "          Y_train,\n",
    "          batch_size=64,\n",
    "          validation_data=(X_test, Y_test),\n",
    "          epochs=epochs)"
   ]
  },
  {
   "cell_type": "code",
   "execution_count": 32,
   "metadata": {
    "colab": {
     "base_uri": "https://localhost:8080/",
     "height": 50
    },
    "colab_type": "code",
    "id": "th_WNXWtinmr",
    "outputId": "49c740fc-85c7-40e8-959c-87f1010c09c0"
   },
   "outputs": [
    {
     "name": "stdout",
     "output_type": "stream",
     "text": [
      "2947/2947 [==============================] - 1s 302us/step\n",
      "[0.2719094553862105, 0.8700373047159452]\n"
     ]
    }
   ],
   "source": [
    "score = model.evaluate(X_test, Y_test)\n",
    "print(score)"
   ]
  },
  {
   "cell_type": "code",
   "execution_count": 0,
   "metadata": {
    "colab": {
     "base_uri": "https://localhost:8080/",
     "height": 180
    },
    "colab_type": "code",
    "id": "hyVK8w1xrxrB",
    "outputId": "efabe61a-77c7-4a00-f7fc-b52efa021440"
   },
   "outputs": [
    {
     "name": "stdout",
     "output_type": "stream",
     "text": [
      "Pred                LAYING  SITTING  ...  WALKING_DOWNSTAIRS  WALKING_UPSTAIRS\n",
      "True                                 ...                                      \n",
      "LAYING                 506        0  ...                   4                27\n",
      "SITTING                  0      222  ...                   0                26\n",
      "STANDING                 0        9  ...                   0               111\n",
      "WALKING                  0       28  ...                  28               184\n",
      "WALKING_DOWNSTAIRS       0        6  ...                 363                26\n",
      "WALKING_UPSTAIRS         0        0  ...                  40               428\n",
      "\n",
      "[6 rows x 6 columns]\n"
     ]
    }
   ],
   "source": [
    "# Confusion Matrix\n",
    "print(confusion_matrix(Y_test, model.predict(X_test)))"
   ]
  },
  {
   "cell_type": "code",
   "execution_count": 0,
   "metadata": {
    "colab": {},
    "colab_type": "code",
    "id": "4dmzrjn_I7_M"
   },
   "outputs": [],
   "source": [
    "%matplotlib inline"
   ]
  },
  {
   "cell_type": "code",
   "execution_count": 36,
   "metadata": {
    "colab": {
     "base_uri": "https://localhost:8080/",
     "height": 282
    },
    "colab_type": "code",
    "id": "cJVy51wII7_S",
    "outputId": "74d1cecd-7dd1-4c06-feb7-d2a3977a3915"
   },
   "outputs": [
    {
     "data": {
      "image/png": "[encoded data removed]",
      "text/plain": [
       "<Figure size 432x288 with 1 Axes>"
      ]
     },
     "metadata": {
      "tags": []
     },
     "output_type": "display_data"
    }
   ],
   "source": [
    "fig,ax = plt.subplots(1,1)\n",
    "ax.set_xlabel('epoch') ; ax.set_ylabel('Categorical Crossentropy Loss')\n",
    "\n",
    "# list of epoch numbers\n",
    "x = list(range(1,epochs+1))\n",
    "\n",
    "# print(history.history.keys())\n",
    "# dict_keys(['val_loss', 'val_acc', 'loss', 'acc'])\n",
    "# history = model_drop.fit(X_train, Y_train, batch_size=batch_size, epochs=nb_epoch, verbose=1, validation_data=(X_test, Y_test))\n",
    "\n",
    "# we will get val_loss and val_acc only when you pass the paramter validation_data\n",
    "# val_loss : validation loss\n",
    "# val_acc : validation accuracy\n",
    "\n",
    "# loss : training loss\n",
    "# acc : train accuracy\n",
    "# for each key in histrory.histrory we will have a list of length equal to number of epochs\n",
    "\n",
    "vy = history.history['val_loss']\n",
    "ty = history.history['loss']\n",
    "plt_dynamic(x, vy, ty, ax)"
   ]
  },
  {
   "cell_type": "code",
   "execution_count": 0,
   "metadata": {
    "colab": {},
    "colab_type": "code",
    "id": "3SJHPLqDqi9q"
   },
   "outputs": [],
   "source": []
  },
  {
   "cell_type": "markdown",
   "metadata": {
    "colab_type": "text",
    "id": "kN6ngDklxSc7"
   },
   "source": [
    "# Model 3"
   ]
  },
  {
   "cell_type": "code",
   "execution_count": 0,
   "metadata": {
    "colab": {
     "base_uri": "https://localhost:8080/",
     "height": 261
    },
    "colab_type": "code",
    "id": "03cS0l7Lqjnd",
    "outputId": "a80a347e-10d2-47f2-ce29-d17852ab6452"
   },
   "outputs": [
    {
     "name": "stdout",
     "output_type": "stream",
     "text": [
      "Model: \"sequential_4\"\n",
      "_________________________________________________________________\n",
      "Layer (type)                 Output Shape              Param #   \n",
      "=================================================================\n",
      "lstm_4 (LSTM)                (None, 80)                28800     \n",
      "_________________________________________________________________\n",
      "dropout_4 (Dropout)          (None, 80)                0         \n",
      "_________________________________________________________________\n",
      "dense_4 (Dense)              (None, 6)                 486       \n",
      "=================================================================\n",
      "Total params: 29,286\n",
      "Trainable params: 29,286\n",
      "Non-trainable params: 0\n",
      "_________________________________________________________________\n",
      "None\n"
     ]
    }
   ],
   "source": [
    "# With One LSTM Layer Model 1  # \n",
    "n_hidden = 80\n",
    "\n",
    "model = Sequential()\n",
    "\n",
    "# 1 LSTM layer\n",
    "model.add(LSTM(n_hidden, input_shape = (timesteps, input_dim)))     # 1 LSTM\n",
    "\n",
    "model.add(Dropout(0.25))\n",
    "model.add(Dense(n_classes, activation = 'sigmoid'))\n",
    "model.compile(loss = 'binary_crossentropy', optimizer = 'adam', metrics = ['accuracy'])\n",
    "print(model.summary())"
   ]
  },
  {
   "cell_type": "code",
   "execution_count": 0,
   "metadata": {
    "colab": {
     "base_uri": "https://localhost:8080/",
     "height": 1000
    },
    "colab_type": "code",
    "id": "1_ufmjxdqjnj",
    "outputId": "939eb729-5bf1-498f-ed0b-81db23c5bb31"
   },
   "outputs": [
    {
     "name": "stdout",
     "output_type": "stream",
     "text": [
      "Train on 7352 samples, validate on 2947 samples\n",
      "Epoch 1/30\n",
      "7352/7352 [==============================] - 31s 4ms/step - loss: 0.4190 - acc: 0.8390 - val_loss: 0.3644 - val_acc: 0.8571\n",
      "Epoch 2/30\n",
      "7352/7352 [==============================] - 30s 4ms/step - loss: 0.3535 - acc: 0.8616 - val_loss: 0.3331 - val_acc: 0.8613\n",
      "Epoch 3/30\n",
      "7352/7352 [==============================] - 30s 4ms/step - loss: 0.3183 - acc: 0.8736 - val_loss: 0.3162 - val_acc: 0.8704\n",
      "Epoch 4/30\n",
      "7352/7352 [==============================] - 30s 4ms/step - loss: 0.2887 - acc: 0.8776 - val_loss: 0.2728 - val_acc: 0.8806\n",
      "Epoch 5/30\n",
      "7352/7352 [==============================] - 30s 4ms/step - loss: 0.2342 - acc: 0.8948 - val_loss: 0.2279 - val_acc: 0.8955\n",
      "Epoch 6/30\n",
      "7352/7352 [==============================] - 30s 4ms/step - loss: 0.2182 - acc: 0.8994 - val_loss: 0.2412 - val_acc: 0.8933\n",
      "Epoch 7/30\n",
      "7352/7352 [==============================] - 30s 4ms/step - loss: 0.2087 - acc: 0.9015 - val_loss: 0.2105 - val_acc: 0.9009\n",
      "Epoch 8/30\n",
      "7352/7352 [==============================] - 30s 4ms/step - loss: 0.1874 - acc: 0.9109 - val_loss: 0.2073 - val_acc: 0.9037\n",
      "Epoch 9/30\n",
      "7352/7352 [==============================] - 30s 4ms/step - loss: 0.1813 - acc: 0.9161 - val_loss: 0.1885 - val_acc: 0.9164\n",
      "Epoch 10/30\n",
      "7352/7352 [==============================] - 30s 4ms/step - loss: 0.1476 - acc: 0.9429 - val_loss: 0.1629 - val_acc: 0.9406\n",
      "Epoch 11/30\n",
      "7352/7352 [==============================] - 30s 4ms/step - loss: 0.1349 - acc: 0.9464 - val_loss: 0.1546 - val_acc: 0.9390\n",
      "Epoch 12/30\n",
      "7352/7352 [==============================] - 30s 4ms/step - loss: 0.1186 - acc: 0.9572 - val_loss: 0.1608 - val_acc: 0.9467\n",
      "Epoch 13/30\n",
      "7352/7352 [==============================] - 30s 4ms/step - loss: 0.0865 - acc: 0.9713 - val_loss: 0.1619 - val_acc: 0.9440\n",
      "Epoch 14/30\n",
      "7352/7352 [==============================] - 30s 4ms/step - loss: 0.0809 - acc: 0.9730 - val_loss: 0.1272 - val_acc: 0.9545\n",
      "Epoch 15/30\n",
      "7352/7352 [==============================] - 30s 4ms/step - loss: 0.0792 - acc: 0.9726 - val_loss: 0.1019 - val_acc: 0.9637\n",
      "Epoch 16/30\n",
      "7352/7352 [==============================] - 30s 4ms/step - loss: 0.1704 - acc: 0.9347 - val_loss: 0.1586 - val_acc: 0.9412\n",
      "Epoch 17/30\n",
      "7352/7352 [==============================] - 30s 4ms/step - loss: 0.0992 - acc: 0.9674 - val_loss: 0.1695 - val_acc: 0.9481\n",
      "Epoch 18/30\n",
      "7352/7352 [==============================] - 30s 4ms/step - loss: 0.1203 - acc: 0.9567 - val_loss: 0.1166 - val_acc: 0.9592\n",
      "Epoch 19/30\n",
      "7352/7352 [==============================] - 30s 4ms/step - loss: 0.0920 - acc: 0.9701 - val_loss: 0.1421 - val_acc: 0.9531\n",
      "Epoch 20/30\n",
      "7352/7352 [==============================] - 30s 4ms/step - loss: 0.1147 - acc: 0.9616 - val_loss: 0.1311 - val_acc: 0.9570\n",
      "Epoch 21/30\n",
      "7352/7352 [==============================] - 30s 4ms/step - loss: 0.0738 - acc: 0.9737 - val_loss: 0.1042 - val_acc: 0.9641\n",
      "Epoch 22/30\n",
      "7352/7352 [==============================] - 29s 4ms/step - loss: 0.0671 - acc: 0.9752 - val_loss: 0.1112 - val_acc: 0.9606\n",
      "Epoch 23/30\n",
      "7352/7352 [==============================] - 29s 4ms/step - loss: 0.1143 - acc: 0.9567 - val_loss: 0.1159 - val_acc: 0.9583\n",
      "Epoch 24/30\n",
      "7352/7352 [==============================] - 29s 4ms/step - loss: 0.0743 - acc: 0.9738 - val_loss: 0.1186 - val_acc: 0.9601\n",
      "Epoch 25/30\n",
      "7352/7352 [==============================] - 30s 4ms/step - loss: 0.0684 - acc: 0.9777 - val_loss: 0.1046 - val_acc: 0.9650\n",
      "Epoch 26/30\n",
      "7352/7352 [==============================] - 30s 4ms/step - loss: 0.0576 - acc: 0.9798 - val_loss: 0.0958 - val_acc: 0.9663\n",
      "Epoch 27/30\n",
      "7352/7352 [==============================] - 30s 4ms/step - loss: 0.0481 - acc: 0.9819 - val_loss: 0.0974 - val_acc: 0.9646\n",
      "Epoch 28/30\n",
      "7352/7352 [==============================] - 30s 4ms/step - loss: 0.0474 - acc: 0.9816 - val_loss: 0.0986 - val_acc: 0.9676\n",
      "Epoch 29/30\n",
      "7352/7352 [==============================] - 30s 4ms/step - loss: 0.0617 - acc: 0.9770 - val_loss: 0.1099 - val_acc: 0.9645\n",
      "Epoch 30/30\n",
      "7352/7352 [==============================] - 30s 4ms/step - loss: 0.0488 - acc: 0.9810 - val_loss: 0.0985 - val_acc: 0.9663\n"
     ]
    }
   ],
   "source": [
    "# Training the model\n",
    "history = model.fit(X_train,\n",
    "          Y_train,\n",
    "          batch_size=64,\n",
    "          validation_data=(X_test, Y_test),\n",
    "          epochs=epochs)"
   ]
  },
  {
   "cell_type": "code",
   "execution_count": 0,
   "metadata": {
    "colab": {
     "base_uri": "https://localhost:8080/",
     "height": 50
    },
    "colab_type": "code",
    "id": "0RG4PFLHqjnp",
    "outputId": "8880ec13-3501-4e7d-a3a8-464db16f7fac"
   },
   "outputs": [
    {
     "name": "stdout",
     "output_type": "stream",
     "text": [
      "2947/2947 [==============================] - 8s 3ms/step\n",
      "[0.09848940819087885, 0.9662934093908977]\n"
     ]
    }
   ],
   "source": [
    "score = model.evaluate(X_test, Y_test)\n",
    "print(score)"
   ]
  },
  {
   "cell_type": "code",
   "execution_count": 0,
   "metadata": {
    "colab": {
     "base_uri": "https://localhost:8080/",
     "height": 282
    },
    "colab_type": "code",
    "id": "LsJmG-FlqjoB",
    "outputId": "574dfd8f-7b4c-4652-ab09-5fc5d069349f"
   },
   "outputs": [
    {
     "data": {
      "image/png": "[encoded data removed]",
      "text/plain": [
       "<Figure size 432x288 with 1 Axes>"
      ]
     },
     "metadata": {
      "tags": []
     },
     "output_type": "display_data"
    }
   ],
   "source": [
    "fig,ax = plt.subplots(1,1)\n",
    "ax.set_xlabel('epoch') ; ax.set_ylabel('Categorical Crossentropy Loss')\n",
    "\n",
    "# list of epoch numbers\n",
    "x = list(range(1,epochs+1))\n",
    "\n",
    "# print(history.history.keys())\n",
    "# dict_keys(['val_loss', 'val_acc', 'loss', 'acc'])\n",
    "# history = model_drop.fit(X_train, Y_train, batch_size=batch_size, epochs=nb_epoch, verbose=1, validation_data=(X_test, Y_test))\n",
    "\n",
    "# we will get val_loss and val_acc only when you pass the paramter validation_data\n",
    "# val_loss : validation loss\n",
    "# val_acc : validation accuracy\n",
    "\n",
    "# loss : training loss\n",
    "# acc : train accuracy\n",
    "# for each key in histrory.histrory we will have a list of length equal to number of epochs\n",
    "\n",
    "vy = history.history['val_loss']\n",
    "ty = history.history['loss']\n",
    "plt_dynamic(x, vy, ty, ax)"
   ]
  },
  {
   "cell_type": "code",
   "execution_count": 0,
   "metadata": {
    "colab": {},
    "colab_type": "code",
    "id": "lNXyPVcgtA6n"
   },
   "outputs": [],
   "source": []
  },
  {
   "cell_type": "markdown",
   "metadata": {
    "colab_type": "text",
    "id": "vjRFLikWxNrz"
   },
   "source": [
    "# Model 4"
   ]
  },
  {
   "cell_type": "code",
   "execution_count": 0,
   "metadata": {
    "colab": {
     "base_uri": "https://localhost:8080/",
     "height": 606
    },
    "colab_type": "code",
    "id": "UZk0WtzyOXe6",
    "outputId": "37852695-2d54-4084-9632-ba543a18c0a6"
   },
   "outputs": [
    {
     "name": "stdout",
     "output_type": "stream",
     "text": [
      "WARNING:tensorflow:From /usr/local/lib/python3.6/dist-packages/keras/backend/tensorflow_backend.py:66: The name tf.get_default_graph is deprecated. Please use tf.compat.v1.get_default_graph instead.\n",
      "\n",
      "WARNING:tensorflow:From /usr/local/lib/python3.6/dist-packages/keras/backend/tensorflow_backend.py:541: The name tf.placeholder is deprecated. Please use tf.compat.v1.placeholder instead.\n",
      "\n",
      "WARNING:tensorflow:From /usr/local/lib/python3.6/dist-packages/keras/backend/tensorflow_backend.py:4432: The name tf.random_uniform is deprecated. Please use tf.random.uniform instead.\n",
      "\n",
      "WARNING:tensorflow:From /usr/local/lib/python3.6/dist-packages/keras/backend/tensorflow_backend.py:148: The name tf.placeholder_with_default is deprecated. Please use tf.compat.v1.placeholder_with_default instead.\n",
      "\n",
      "WARNING:tensorflow:From /usr/local/lib/python3.6/dist-packages/keras/backend/tensorflow_backend.py:3733: calling dropout (from tensorflow.python.ops.nn_ops) with keep_prob is deprecated and will be removed in a future version.\n",
      "Instructions for updating:\n",
      "Please use `rate` instead of `keep_prob`. Rate should be set to `rate = 1 - keep_prob`.\n",
      "WARNING:tensorflow:From /usr/local/lib/python3.6/dist-packages/keras/optimizers.py:793: The name tf.train.Optimizer is deprecated. Please use tf.compat.v1.train.Optimizer instead.\n",
      "\n",
      "WARNING:tensorflow:From /usr/local/lib/python3.6/dist-packages/keras/backend/tensorflow_backend.py:3657: The name tf.log is deprecated. Please use tf.math.log instead.\n",
      "\n",
      "WARNING:tensorflow:From /usr/local/lib/python3.6/dist-packages/tensorflow/python/ops/nn_impl.py:180: add_dispatch_support.<locals>.wrapper (from tensorflow.python.ops.array_ops) is deprecated and will be removed in a future version.\n",
      "Instructions for updating:\n",
      "Use tf.where in 2.0, which has the same broadcast rule as np.where\n",
      "Model: \"sequential_1\"\n",
      "_________________________________________________________________\n",
      "Layer (type)                 Output Shape              Param #   \n",
      "=================================================================\n",
      "lstm_1 (LSTM)                (None, 128, 80)           28800     \n",
      "_________________________________________________________________\n",
      "dropout_1 (Dropout)          (None, 128, 80)           0         \n",
      "_________________________________________________________________\n",
      "lstm_2 (LSTM)                (None, 80)                51520     \n",
      "_________________________________________________________________\n",
      "dense_1 (Dense)              (None, 6)                 486       \n",
      "=================================================================\n",
      "Total params: 80,806\n",
      "Trainable params: 80,806\n",
      "Non-trainable params: 0\n",
      "_________________________________________________________________\n",
      "None\n"
     ]
    }
   ],
   "source": [
    "# With One LSTM Layer Model 1  # \n",
    "n_hidden = 80\n",
    "\n",
    "model = Sequential()\n",
    "\n",
    "# 1 LSTM layer\n",
    "model.add(LSTM(n_hidden, input_shape = (timesteps, input_dim), return_sequences = True))     # 1 LSTM\n",
    "\n",
    "model.add(Dropout(0.25))\n",
    "model.add(LSTM(n_hidden)) \n",
    "model.add(Dense(n_classes, activation = 'sigmoid'))\n",
    "\n",
    "model.compile(loss = 'binary_crossentropy', optimizer = 'rmsprop', metrics = ['accuracy'])\n",
    "print(model.summary())"
   ]
  },
  {
   "cell_type": "code",
   "execution_count": 0,
   "metadata": {
    "colab": {
     "base_uri": "https://localhost:8080/",
     "height": 1000
    },
    "colab_type": "code",
    "id": "xG97RvWhly5-",
    "outputId": "6569c63b-6e15-49c5-ff66-1dc5d75c8016"
   },
   "outputs": [
    {
     "name": "stdout",
     "output_type": "stream",
     "text": [
      "Train on 7352 samples, validate on 2947 samples\n",
      "Epoch 1/30\n",
      "7352/7352 [==============================] - 58s 8ms/step - loss: 0.0341 - acc: 0.9861 - val_loss: 0.0949 - val_acc: 0.9742\n",
      "Epoch 2/30\n",
      "7352/7352 [==============================] - 58s 8ms/step - loss: 0.0371 - acc: 0.9852 - val_loss: 0.1142 - val_acc: 0.9724\n",
      "Epoch 3/30\n",
      "7352/7352 [==============================] - 58s 8ms/step - loss: 0.0352 - acc: 0.9856 - val_loss: 0.1288 - val_acc: 0.9688\n",
      "Epoch 4/30\n",
      "7352/7352 [==============================] - 58s 8ms/step - loss: 0.0390 - acc: 0.9845 - val_loss: 0.0962 - val_acc: 0.9751\n",
      "Epoch 5/30\n",
      "7352/7352 [==============================] - 58s 8ms/step - loss: 0.0366 - acc: 0.9847 - val_loss: 0.1185 - val_acc: 0.9722\n",
      "Epoch 6/30\n",
      "7352/7352 [==============================] - 58s 8ms/step - loss: 0.0370 - acc: 0.9849 - val_loss: 0.1057 - val_acc: 0.9723\n",
      "Epoch 7/30\n",
      "7352/7352 [==============================] - 58s 8ms/step - loss: 0.0331 - acc: 0.9867 - val_loss: 0.1143 - val_acc: 0.9738\n",
      "Epoch 8/30\n",
      "7352/7352 [==============================] - 58s 8ms/step - loss: 0.0332 - acc: 0.9860 - val_loss: 0.1110 - val_acc: 0.9671\n",
      "Epoch 9/30\n",
      "7352/7352 [==============================] - 59s 8ms/step - loss: 0.0319 - acc: 0.9864 - val_loss: 0.1210 - val_acc: 0.9723\n",
      "Epoch 10/30\n",
      "7352/7352 [==============================] - 58s 8ms/step - loss: 0.0354 - acc: 0.9867 - val_loss: 0.1088 - val_acc: 0.9736\n",
      "Epoch 11/30\n",
      "7352/7352 [==============================] - 58s 8ms/step - loss: 0.0304 - acc: 0.9886 - val_loss: 0.1426 - val_acc: 0.9748\n",
      "Epoch 12/30\n",
      "7352/7352 [==============================] - 58s 8ms/step - loss: 0.0331 - acc: 0.9860 - val_loss: 0.2099 - val_acc: 0.9475\n",
      "Epoch 13/30\n",
      "7352/7352 [==============================] - 58s 8ms/step - loss: 0.0332 - acc: 0.9870 - val_loss: 0.1255 - val_acc: 0.9623\n",
      "Epoch 14/30\n",
      "7352/7352 [==============================] - 59s 8ms/step - loss: 0.0299 - acc: 0.9883 - val_loss: 0.1483 - val_acc: 0.9718\n",
      "Epoch 15/30\n",
      "7352/7352 [==============================] - 58s 8ms/step - loss: 0.0304 - acc: 0.9877 - val_loss: 0.1413 - val_acc: 0.9688\n",
      "Epoch 16/30\n",
      "7352/7352 [==============================] - 58s 8ms/step - loss: 0.0317 - acc: 0.9885 - val_loss: 0.1288 - val_acc: 0.9744\n",
      "Epoch 17/30\n",
      "7352/7352 [==============================] - 58s 8ms/step - loss: 0.0308 - acc: 0.9879 - val_loss: 0.1279 - val_acc: 0.9727\n",
      "Epoch 18/30\n",
      "7352/7352 [==============================] - 58s 8ms/step - loss: 0.0301 - acc: 0.9886 - val_loss: 0.1383 - val_acc: 0.9695\n",
      "Epoch 19/30\n",
      "7352/7352 [==============================] - 58s 8ms/step - loss: 0.0303 - acc: 0.9891 - val_loss: 0.1219 - val_acc: 0.9738\n",
      "Epoch 20/30\n",
      "7352/7352 [==============================] - 59s 8ms/step - loss: 0.0332 - acc: 0.9872 - val_loss: 0.1546 - val_acc: 0.9686\n",
      "Epoch 21/30\n",
      "7352/7352 [==============================] - 58s 8ms/step - loss: 0.0343 - acc: 0.9877 - val_loss: 0.1032 - val_acc: 0.9755\n",
      "Epoch 22/30\n",
      "7352/7352 [==============================] - 58s 8ms/step - loss: 0.0329 - acc: 0.9874 - val_loss: 0.1271 - val_acc: 0.9674\n",
      "Epoch 23/30\n",
      "7352/7352 [==============================] - 58s 8ms/step - loss: 0.0297 - acc: 0.9876 - val_loss: 0.1098 - val_acc: 0.9737\n",
      "Epoch 24/30\n",
      "7352/7352 [==============================] - 58s 8ms/step - loss: 0.0290 - acc: 0.9892 - val_loss: 0.1386 - val_acc: 0.9716\n",
      "Epoch 25/30\n",
      "7352/7352 [==============================] - 58s 8ms/step - loss: 0.0336 - acc: 0.9884 - val_loss: 0.1342 - val_acc: 0.9760\n",
      "Epoch 26/30\n",
      "7352/7352 [==============================] - 58s 8ms/step - loss: 0.0327 - acc: 0.9875 - val_loss: 0.1325 - val_acc: 0.9699\n",
      "Epoch 27/30\n",
      "7352/7352 [==============================] - 58s 8ms/step - loss: 0.0342 - acc: 0.9871 - val_loss: 0.1163 - val_acc: 0.9701\n",
      "Epoch 28/30\n",
      "7352/7352 [==============================] - 58s 8ms/step - loss: 0.0291 - acc: 0.9890 - val_loss: 0.1486 - val_acc: 0.9640\n",
      "Epoch 29/30\n",
      "7352/7352 [==============================] - 58s 8ms/step - loss: 0.0303 - acc: 0.9890 - val_loss: 0.1134 - val_acc: 0.9759\n",
      "Epoch 30/30\n",
      "7352/7352 [==============================] - 59s 8ms/step - loss: 0.0272 - acc: 0.9901 - val_loss: 0.1277 - val_acc: 0.9695\n",
      "CPU times: user 32min 43s, sys: 1min 43s, total: 34min 27s\n",
      "Wall time: 29min 1s\n"
     ]
    }
   ],
   "source": [
    "%%time\n",
    "# Training the model\n",
    "history = model.fit(X_train,\n",
    "          Y_train,\n",
    "          batch_size= 64,\n",
    "          validation_data=(X_test, Y_test),\n",
    "          epochs=epochs)"
   ]
  },
  {
   "cell_type": "code",
   "execution_count": 0,
   "metadata": {
    "colab": {
     "base_uri": "https://localhost:8080/",
     "height": 50
    },
    "colab_type": "code",
    "id": "q-DBFgjjOXfJ",
    "outputId": "68bf6a3d-6b35-4aae-d7a7-89b41613b3c7"
   },
   "outputs": [
    {
     "name": "stdout",
     "output_type": "stream",
     "text": [
      "2947/2947 [==============================] - 17s 6ms/step\n",
      "[0.1007159318419772, 0.9716095518248745]\n"
     ]
    }
   ],
   "source": [
    "score = model.evaluate(X_test, Y_test)\n",
    "print(score)"
   ]
  },
  {
   "cell_type": "code",
   "execution_count": 0,
   "metadata": {
    "colab": {
     "base_uri": "https://localhost:8080/",
     "height": 180
    },
    "colab_type": "code",
    "id": "RNL-Bg0stBPK",
    "outputId": "c39f0eb5-00c9-45d4-cd61-7173123c3281"
   },
   "outputs": [
    {
     "name": "stdout",
     "output_type": "stream",
     "text": [
      "Pred                LAYING  SITTING  ...  WALKING_DOWNSTAIRS  WALKING_UPSTAIRS\n",
      "True                                 ...                                      \n",
      "LAYING                 511        0  ...                   0                 0\n",
      "SITTING                  0      351  ...                   0                 2\n",
      "STANDING                 0       22  ...                   1                 0\n",
      "WALKING                  0        0  ...                  43                 1\n",
      "WALKING_DOWNSTAIRS       0        0  ...                 420                 0\n",
      "WALKING_UPSTAIRS         0        4  ...                  14               440\n",
      "\n",
      "[6 rows x 6 columns]\n"
     ]
    }
   ],
   "source": [
    "# Confusion Matrix\n",
    "print(confusion_matrix(Y_test, model.predict(X_test)))"
   ]
  },
  {
   "cell_type": "code",
   "execution_count": 0,
   "metadata": {
    "colab": {
     "base_uri": "https://localhost:8080/",
     "height": 282
    },
    "colab_type": "code",
    "id": "9W4PmuSPqyMX",
    "outputId": "56421b0f-078c-46b2-9560-81e7ae376e84"
   },
   "outputs": [
    {
     "data": {
      "image/png": "[encoded data removed]",
      "text/plain": [
       "<Figure size 432x288 with 1 Axes>"
      ]
     },
     "metadata": {
      "tags": []
     },
     "output_type": "display_data"
    }
   ],
   "source": [
    "fig,ax = plt.subplots(1,1)\n",
    "ax.set_xlabel('epoch') ; ax.set_ylabel('Categorical Crossentropy Loss')\n",
    "\n",
    "# list of epoch numbers\n",
    "x = list(range(1,epochs+1))\n",
    "\n",
    "# print(history.history.keys())\n",
    "# dict_keys(['val_loss', 'val_acc', 'loss', 'acc'])\n",
    "# history = model_drop.fit(X_train, Y_train, batch_size=batch_size, epochs=nb_epoch, verbose=1, validation_data=(X_test, Y_test))\n",
    "\n",
    "# we will get val_loss and val_acc only when you pass the paramter validation_data\n",
    "# val_loss : validation loss\n",
    "# val_acc : validation accuracy\n",
    "\n",
    "# loss : training loss\n",
    "# acc : train accuracy\n",
    "# for each key in histrory.histrory we will have a list of length equal to number of epochs\n",
    "\n",
    "vy = history.history['val_loss']\n",
    "ty = history.history['loss']\n",
    "plt_dynamic(x, vy, ty, ax)"
   ]
  },
  {
   "cell_type": "markdown",
   "metadata": {
    "colab_type": "text",
    "id": "f8qhFZPquO9t"
   },
   "source": [
    "# Conclusion"
   ]
  },
  {
   "cell_type": "code",
   "execution_count": 3,
   "metadata": {
    "colab": {
     "base_uri": "https://localhost:8080/",
     "height": 147
    },
    "colab_type": "code",
    "id": "xIrqU-eyuQv2",
    "outputId": "6f30dd02-e997-43e2-b18f-1457d4e5cc54"
   },
   "outputs": [
    {
     "name": "stdout",
     "output_type": "stream",
     "text": [
      "+----------------------+--------------+------------+-----------+--------------------+\n",
      "|        Model         | Hidden layer | activation | Optimizer | Test accuracy in % |\n",
      "+----------------------+--------------+------------+-----------+--------------------+\n",
      "| Lstm + dropout(0.5)  |      32      |  sigmoid   |  rmsprop  |       90.97%       |\n",
      "| Lstm + dropout(0.25) |      32      |    relu    |    Adam   |        87%         |\n",
      "| Lstm + dropout(0.25) |      80      |  sigmoid   |    Adam   |       96.62%       |\n",
      "| Lstm + dropout(0.25) |      80      |  sigmoid   |  rmsprop  |       97.16%       |\n",
      "+----------------------+--------------+------------+-----------+--------------------+\n"
     ]
    }
   ],
   "source": [
    "from prettytable import PrettyTable\n",
    "x = PrettyTable()\n",
    "x.field_names = [\"Model\",\"Hidden layer\",\"activation\",\"Optimizer\", \"Test accuracy in %\"]\n",
    "\n",
    "x.add_row([\"Lstm + dropout(0.5)\",\"32\",\"sigmoid\",\"rmsprop\" ,\"90.97%\"])\n",
    "x.add_row([\"Lstm + dropout(0.25)\",\"32\",\"relu\",\"Adam\" ,\"87%\"])\n",
    "x.add_row([\"Lstm + dropout(0.25)\",\"80\",\"sigmoid\" ,\"Adam\", \"96.62%\"])\n",
    "x.add_row([\"Lstm + dropout(0.25)\",\"80\",\"sigmoid\",\"rmsprop\" ,\"97.16%\"])\n",
    "\n",
    "\n",
    "print(x)"
   ]
  },
  {
   "cell_type": "markdown",
   "metadata": {
    "colab_type": "text",
    "id": "A44KShePwGqT"
   },
   "source": [
    "* By increasing the hidden layers to 80 we got a very good result. \n",
    "* Lstm + dropout(0.25) model ,with 80 hidden layers with \"sigmoid\" activation function we got a test acccuracy of 97.16%.\n",
    "* We can further imporve the performace with Hyperparameter tuning."
   ]
  },
  {
   "cell_type": "code",
   "execution_count": 0,
   "metadata": {
    "colab": {},
    "colab_type": "code",
    "id": "x6JQejG7u8OS"
   },
   "outputs": [],
   "source": []
  }
 ],
 "metadata": {
  "accelerator": "GPU",
  "colab": {
   "collapsed_sections": [],
   "name": "HAR_LSTM_New.ipynb",
   "provenance": []
  },
  "kernelspec": {
   "display_name": "Python 3",
   "language": "python",
   "name": "python3"
  },
  "language_info": {
   "codemirror_mode": {
    "name": "ipython",
    "version": 3
   },
   "file_extension": ".py",
   "mimetype": "text/x-python",
   "name": "python",
   "nbconvert_exporter": "python",
   "pygments_lexer": "ipython3",
   "version": "3.6.5"
  }
 },
 "nbformat": 4,
 "nbformat_minor": 1
}
